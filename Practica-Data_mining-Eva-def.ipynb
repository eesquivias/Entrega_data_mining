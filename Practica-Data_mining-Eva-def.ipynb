{
 "cells": [
  {
   "cell_type": "markdown",
   "metadata": {},
   "source": [
    "Vamos a cargar el dataset de AirBnB descargado de [aquí](https://public.opendatasoft.com/explore/dataset/airbnb-listings/export/?disjunctive.host_verifications&disjunctive.amenities&disjunctive.features&q=Madrid&dataChart=eyJxdWVyaWVzIjpbeyJjaGFydHMiOlt7InR5cGUiOiJjb2x1bW4iLCJmdW5jIjoiQ09VTlQiLCJ5QXhpcyI6Imhvc3RfbGlzdGluZ3NfY291bnQiLCJzY2llbnRpZmljRGlzcGxheSI6dHJ1ZSwiY29sb3IiOiJyYW5nZS1jdXN0b20ifV0sInhBeGlzIjoiY2l0eSIsIm1heHBvaW50cyI6IiIsInRpbWVzY2FsZSI6IiIsInNvcnQiOiIiLCJzZXJpZXNCcmVha2Rvd24iOiJyb29tX3R5cGUiLCJjb25maWciOnsiZGF0YXNldCI6ImFpcmJuYi1saXN0aW5ncyIsIm9wdGlvbnMiOnsiZGlzanVuY3RpdmUuaG9zdF92ZXJpZmljYXRpb25zIjp0cnVlLCJkaXNqdW5jdGl2ZS5hbWVuaXRpZXMiOnRydWUsImRpc2p1bmN0aXZlLmZlYXR1cmVzIjp0cnVlfX19XSwidGltZXNjYWxlIjoiIiwiZGlzcGxheUxlZ2VuZCI6dHJ1ZSwiYWxpZ25Nb250aCI6dHJ1ZX0%3D&location=16,41.38377,2.15774&basemap=jawg.streets)\n",
    "\n",
    "![](descargar.png)"
   ]
  },
  {
   "cell_type": "code",
   "execution_count": 1,
   "metadata": {},
   "outputs": [
    {
     "name": "stderr",
     "output_type": "stream",
     "text": [
      "Warning message:\n",
      "\"package 'tidyverse' was built under R version 3.6.3\"-- Attaching packages ------------------------------------------------------------------------------- tidyverse 1.3.0 --\n",
      "v ggplot2 3.3.3     v purrr   0.3.4\n",
      "v tibble  3.0.4     v dplyr   1.0.4\n",
      "v tidyr   1.1.3     v stringr 1.4.0\n",
      "v readr   1.4.0     v forcats 0.5.0\n",
      "Warning message:\n",
      "\"package 'ggplot2' was built under R version 3.6.3\"Warning message:\n",
      "\"package 'tibble' was built under R version 3.6.2\"Warning message:\n",
      "\"package 'tidyr' was built under R version 3.6.2\"Warning message:\n",
      "\"package 'readr' was built under R version 3.6.3\"Warning message:\n",
      "\"package 'purrr' was built under R version 3.6.3\"Warning message:\n",
      "\"package 'dplyr' was built under R version 3.6.3\"Warning message:\n",
      "\"package 'stringr' was built under R version 3.6.3\"Warning message:\n",
      "\"package 'forcats' was built under R version 3.6.3\"-- Conflicts ---------------------------------------------------------------------------------- tidyverse_conflicts() --\n",
      "x dplyr::filter() masks stats::filter()\n",
      "x dplyr::lag()    masks stats::lag()\n"
     ]
    }
   ],
   "source": [
    "library(tidyverse)\n",
    "library(stats)\n",
    "options(repr.plot.height=4,repr.plot.width=6,repr.plot.res = 300)"
   ]
  },
  {
   "cell_type": "code",
   "execution_count": 2,
   "metadata": {},
   "outputs": [],
   "source": [
    "\n",
    "airbnb0<-read.csv(\"airbnb-listings.csv\",sep = \";\", stringsAsFactors = T)\n",
    "\n",
    "#airbnb0<-read.csv('C:\\\\users\\\\evaes\\\\Downloads\\\\airbnb-listings.csv',sep = ';', stringsAsFactors = T)\n",
    "\n"
   ]
  },
  {
   "cell_type": "code",
   "execution_count": 3,
   "metadata": {},
   "outputs": [],
   "source": [
    "airbnb<-airbnb0\n"
   ]
  },
  {
   "cell_type": "markdown",
   "metadata": {},
   "source": [
    "Vamos a quedarnos con las columnas de mayor interés:\n",
    "\n",
    "'City','Room.Type','Neighbourhood','Accommodates','Bathrooms','Bedrooms','Beds','Price','Square.Feet','Guests.Included','Extra.People','Review.Scores.Rating','Latitude', 'Longitude'"
   ]
  },
  {
   "cell_type": "code",
   "execution_count": 4,
   "metadata": {},
   "outputs": [
    {
     "data": {
      "text/html": [
       "<ol class=list-inline>\n",
       "\t<li>14780</li>\n",
       "\t<li>14</li>\n",
       "</ol>\n"
      ],
      "text/latex": [
       "\\begin{enumerate*}\n",
       "\\item 14780\n",
       "\\item 14\n",
       "\\end{enumerate*}\n"
      ],
      "text/markdown": [
       "1. 14780\n",
       "2. 14\n",
       "\n",
       "\n"
      ],
      "text/plain": [
       "[1] 14780    14"
      ]
     },
     "metadata": {},
     "output_type": "display_data"
    }
   ],
   "source": [
    "airbnb<- airbnb %>% select('City','Room.Type','Neighbourhood','Accommodates','Bathrooms','Bedrooms','Beds','Price','Square.Feet','Guests.Included','Extra.People','Review.Scores.Rating','Latitude', 'Longitude')\n",
    "dim(airbnb)"
   ]
  },
  {
   "cell_type": "code",
   "execution_count": 5,
   "metadata": {},
   "outputs": [
    {
     "data": {
      "text/plain": [
       "        City                 Room.Type        Neighbourhood   Accommodates   \n",
       " Madrid   :13207   Entire home/apt:8976              :5229   Min.   : 1.000  \n",
       " Barcelona:  292   Private room   :5595   MalasaÃ±a  : 895   1st Qu.: 2.000  \n",
       " London   :  132   Shared room    : 209   La Latina  : 810   Median : 3.000  \n",
       " Paris    :  108                          Embajadores: 795   Mean   : 3.278  \n",
       " é©¬å¾·é‡Œ:   52                          Sol        : 716   3rd Qu.: 4.000  \n",
       " Palma    :   49                          Justicia   : 559   Max.   :16.000  \n",
       " (Other)  :  940                          (Other)    :5776                   \n",
       "   Bathrooms        Bedrooms           Beds            Price       \n",
       " Min.   :0.000   Min.   : 0.000   Min.   : 1.000   Min.   :  9.00  \n",
       " 1st Qu.:1.000   1st Qu.: 1.000   1st Qu.: 1.000   1st Qu.: 34.00  \n",
       " Median :1.000   Median : 1.000   Median : 2.000   Median : 55.00  \n",
       " Mean   :1.282   Mean   : 1.344   Mean   : 2.044   Mean   : 73.56  \n",
       " 3rd Qu.:1.000   3rd Qu.: 2.000   3rd Qu.: 2.000   3rd Qu.: 86.00  \n",
       " Max.   :8.000   Max.   :10.000   Max.   :16.000   Max.   :999.00  \n",
       " NA's   :55      NA's   :25       NA's   :49       NA's   :17      \n",
       "  Square.Feet     Guests.Included  Extra.People     Review.Scores.Rating\n",
       " Min.   :   0.0   Min.   : 0.00   Min.   :  0.000   Min.   : 20.0       \n",
       " 1st Qu.:   0.0   1st Qu.: 1.00   1st Qu.:  0.000   1st Qu.: 89.0       \n",
       " Median :  98.5   Median : 1.00   Median :  0.000   Median : 94.0       \n",
       " Mean   : 390.5   Mean   : 1.59   Mean   :  7.691   Mean   : 91.7       \n",
       " 3rd Qu.: 646.0   3rd Qu.: 2.00   3rd Qu.: 15.000   3rd Qu.: 98.0       \n",
       " Max.   :6997.0   Max.   :16.00   Max.   :500.000   Max.   :100.0       \n",
       " NA's   :14182                                      NA's   :3304        \n",
       "    Latitude        Longitude       \n",
       " Min.   :-37.85   Min.   :-123.131  \n",
       " 1st Qu.: 40.41   1st Qu.:  -3.708  \n",
       " Median : 40.42   Median :  -3.701  \n",
       " Mean   : 40.50   Mean   :  -3.858  \n",
       " 3rd Qu.: 40.43   3rd Qu.:  -3.684  \n",
       " Max.   : 55.97   Max.   : 153.371  \n",
       "                                    "
      ]
     },
     "metadata": {},
     "output_type": "display_data"
    }
   ],
   "source": [
    "summary(airbnb)"
   ]
  },
  {
   "cell_type": "markdown",
   "metadata": {},
   "source": [
    "Nos quedarmos solo con las entradas de Madrid para Room.Type==\"Entire home/apt\" y cuyo barrio (Neighbourhood) no está vacio ''\n",
    "Podemos eliminar las siguientes columnas que ya no son necesarias:\n",
    "\"Room.Type\",'City'\n",
    "\n",
    "Llama a nuevo dataframe df_madrid."
   ]
  },
  {
   "cell_type": "code",
   "execution_count": 6,
   "metadata": {},
   "outputs": [
    {
     "data": {
      "text/html": [
       "<ol class=list-inline>\n",
       "\t<li>5601</li>\n",
       "\t<li>12</li>\n",
       "</ol>\n"
      ],
      "text/latex": [
       "\\begin{enumerate*}\n",
       "\\item 5601\n",
       "\\item 12\n",
       "\\end{enumerate*}\n"
      ],
      "text/markdown": [
       "1. 5601\n",
       "2. 12\n",
       "\n",
       "\n"
      ],
      "text/plain": [
       "[1] 5601   12"
      ]
     },
     "metadata": {},
     "output_type": "display_data"
    }
   ],
   "source": [
    "df_madrid<- airbnb %>%\n",
    "filter(City== \"Madrid\" & Room.Type==\"Entire home/apt\" & Neighbourhood != \"\")%>%\n",
    "select(!(\"Room.Type\"|\"City\"))\n",
    "\n",
    "dim(df_madrid)\n",
    "#head(df_madrid)\n"
   ]
  },
  {
   "cell_type": "markdown",
   "metadata": {},
   "source": [
    "Crea una nueva columna llamada Square.Meters a partir de Square.Feet. Recuerda que un pie cuadrado son 0.092903 metros cuadrados."
   ]
  },
  {
   "cell_type": "code",
   "execution_count": 7,
   "metadata": {},
   "outputs": [
    {
     "data": {
      "text/plain": [
       "     Neighbourhood   Accommodates      Bathrooms        Bedrooms     \n",
       " MalasaÃ±a  : 679   Min.   : 1.000   Min.   :0.000   Min.   : 0.000  \n",
       " Embajadores: 585   1st Qu.: 3.000   1st Qu.:1.000   1st Qu.: 1.000  \n",
       " La Latina  : 571   Median : 4.000   Median :1.000   Median : 1.000  \n",
       " Sol        : 536   Mean   : 4.101   Mean   :1.248   Mean   : 1.453  \n",
       " Cortes     : 441   3rd Qu.: 5.000   3rd Qu.:1.000   3rd Qu.: 2.000  \n",
       " Justicia   : 384   Max.   :16.000   Max.   :6.500   Max.   :10.000  \n",
       " (Other)    :2405                    NA's   :14      NA's   :7       \n",
       "      Beds            Price         Square.Feet     Guests.Included \n",
       " Min.   : 1.000   Min.   : 10.00   Min.   :   0.0   Min.   : 1.000  \n",
       " 1st Qu.: 1.000   1st Qu.: 56.00   1st Qu.:   0.0   1st Qu.: 1.000  \n",
       " Median : 2.000   Median : 75.00   Median : 237.0   Median : 2.000  \n",
       " Mean   : 2.393   Mean   : 88.74   Mean   : 392.6   Mean   : 1.952  \n",
       " 3rd Qu.: 3.000   3rd Qu.:100.00   3rd Qu.: 646.0   3rd Qu.: 2.000  \n",
       " Max.   :16.000   Max.   :850.00   Max.   :5167.0   Max.   :15.000  \n",
       " NA's   :8        NA's   :5        NA's   :5254                     \n",
       "  Extra.People    Review.Scores.Rating    Latitude       Longitude     \n",
       " Min.   :  0.00   Min.   : 20.00       Min.   :40.33   Min.   :-3.835  \n",
       " 1st Qu.:  0.00   1st Qu.: 88.00       1st Qu.:40.41   1st Qu.:-3.707  \n",
       " Median : 10.00   Median : 93.00       Median :40.42   Median :-3.702  \n",
       " Mean   :  8.79   Mean   : 91.29       Mean   :40.42   Mean   :-3.699  \n",
       " 3rd Qu.: 15.00   3rd Qu.: 97.00       3rd Qu.:40.43   3rd Qu.:-3.696  \n",
       " Max.   :276.00   Max.   :100.00       Max.   :40.51   Max.   :-3.576  \n",
       "                  NA's   :833                                          \n",
       " Square.Meters   \n",
       " Min.   :  0.00  \n",
       " 1st Qu.:  0.00  \n",
       " Median : 22.02  \n",
       " Mean   : 36.47  \n",
       " 3rd Qu.: 60.02  \n",
       " Max.   :480.03  \n",
       " NA's   :5254    "
      ]
     },
     "metadata": {},
     "output_type": "display_data"
    }
   ],
   "source": [
    "df_madrid<-df_madrid %>%\n",
    "mutate(Square.Meters= Square.Feet*0.092903)\n",
    "summary(df_madrid)"
   ]
  },
  {
   "cell_type": "code",
   "execution_count": 8,
   "metadata": {},
   "outputs": [],
   "source": [
    "#algunos caracteres de neighbourhood no están bien, aprovecho y arreglo el encoding:\n",
    "df_madrid$Neighbourhood<-as.character(df_madrid$Neighbourhood)\n",
    "Encoding(df_madrid$Neighbourhood)=\"UTF-8\"\n"
   ]
  },
  {
   "cell_type": "code",
   "execution_count": 9,
   "metadata": {},
   "outputs": [
    {
     "data": {
      "text/plain": [
       "     Neighbourhood   Accommodates      Bathrooms        Bedrooms     \n",
       " Malasaña   : 679   Min.   : 1.000   Min.   :0.000   Min.   : 0.000  \n",
       " Embajadores: 585   1st Qu.: 3.000   1st Qu.:1.000   1st Qu.: 1.000  \n",
       " La Latina  : 571   Median : 4.000   Median :1.000   Median : 1.000  \n",
       " Sol        : 536   Mean   : 4.101   Mean   :1.248   Mean   : 1.453  \n",
       " Cortes     : 441   3rd Qu.: 5.000   3rd Qu.:1.000   3rd Qu.: 2.000  \n",
       " Justicia   : 384   Max.   :16.000   Max.   :6.500   Max.   :10.000  \n",
       " (Other)    :2405                    NA's   :14      NA's   :7       \n",
       "      Beds            Price         Square.Feet     Guests.Included \n",
       " Min.   : 1.000   Min.   : 10.00   Min.   :   0.0   Min.   : 1.000  \n",
       " 1st Qu.: 1.000   1st Qu.: 56.00   1st Qu.:   0.0   1st Qu.: 1.000  \n",
       " Median : 2.000   Median : 75.00   Median : 237.0   Median : 2.000  \n",
       " Mean   : 2.393   Mean   : 88.74   Mean   : 392.6   Mean   : 1.952  \n",
       " 3rd Qu.: 3.000   3rd Qu.:100.00   3rd Qu.: 646.0   3rd Qu.: 2.000  \n",
       " Max.   :16.000   Max.   :850.00   Max.   :5167.0   Max.   :15.000  \n",
       " NA's   :8        NA's   :5        NA's   :5254                     \n",
       "  Extra.People    Review.Scores.Rating    Latitude       Longitude     \n",
       " Min.   :  0.00   Min.   : 20.00       Min.   :40.33   Min.   :-3.835  \n",
       " 1st Qu.:  0.00   1st Qu.: 88.00       1st Qu.:40.41   1st Qu.:-3.707  \n",
       " Median : 10.00   Median : 93.00       Median :40.42   Median :-3.702  \n",
       " Mean   :  8.79   Mean   : 91.29       Mean   :40.42   Mean   :-3.699  \n",
       " 3rd Qu.: 15.00   3rd Qu.: 97.00       3rd Qu.:40.43   3rd Qu.:-3.696  \n",
       " Max.   :276.00   Max.   :100.00       Max.   :40.51   Max.   :-3.576  \n",
       "                  NA's   :833                                          \n",
       " Square.Meters   \n",
       " Min.   :  0.00  \n",
       " 1st Qu.:  0.00  \n",
       " Median : 22.02  \n",
       " Mean   : 36.47  \n",
       " 3rd Qu.: 60.02  \n",
       " Max.   :480.03  \n",
       " NA's   :5254    "
      ]
     },
     "metadata": {},
     "output_type": "display_data"
    }
   ],
   "source": [
    "df_madrid$Neighbourhood<-as.factor(df_madrid$Neighbourhood)\n",
    "summary(df_madrid)"
   ]
  },
  {
   "cell_type": "code",
   "execution_count": 10,
   "metadata": {},
   "outputs": [],
   "source": [
    "# Esta casilla solo se ejecuta si la versión de dplyr lo permite\n",
    "\n",
    "#intercambio las posiciones de square.feet y square.meters\n",
    "\n",
    "df_madrid<-df_madrid %>% \n",
    "relocate(Square.Meters, .after = Price) %>%\n",
    "relocate(Square.Feet, .after = last_col()) \n",
    "\n",
    "#packageVersion(\"dplyr\")\n",
    "#update.packages(\"dplyr\")\n",
    "#packUrl<-'https://cran.r-project.org/src/contrib/dplyr_1.0.5.tar.gz'\n",
    "#install.packages(packUrl, repos= NULL, type= 'source')"
   ]
  },
  {
   "cell_type": "markdown",
   "metadata": {},
   "source": [
    "¿Que porcentaje de los apartamentos no muestran los metros cuadrados? Es decir, ¿cuantos tienen NA en Square.Meters?"
   ]
  },
  {
   "cell_type": "code",
   "execution_count": 11,
   "metadata": {},
   "outputs": [
    {
     "data": {
      "text/html": [
       "<table>\n",
       "<thead><tr><th scope=col>Square.Meters == \"NA\"</th><th scope=col>n</th><th scope=col>pct</th></tr></thead>\n",
       "<tbody>\n",
       "\t<tr><td>FALSE    </td><td> 347     </td><td> 6.195322</td></tr>\n",
       "\t<tr><td>   NA    </td><td>5254     </td><td>93.804678</td></tr>\n",
       "</tbody>\n",
       "</table>\n"
      ],
      "text/latex": [
       "\\begin{tabular}{r|lll}\n",
       " Square.Meters == \"NA\" & n & pct\\\\\n",
       "\\hline\n",
       "\t FALSE     &  347      &  6.195322\\\\\n",
       "\t    NA     & 5254      & 93.804678\\\\\n",
       "\\end{tabular}\n"
      ],
      "text/markdown": [
       "\n",
       "| Square.Meters == \"NA\" | n | pct |\n",
       "|---|---|---|\n",
       "| FALSE     |  347      |  6.195322 |\n",
       "|    NA     | 5254      | 93.804678 |\n",
       "\n"
      ],
      "text/plain": [
       "  Square.Meters == \"NA\" n    pct      \n",
       "1 FALSE                  347  6.195322\n",
       "2    NA                 5254 93.804678"
      ]
     },
     "metadata": {},
     "output_type": "display_data"
    },
    {
     "data": {
      "text/html": [
       "'El porcentaje de apartamentos que no muestra los metros cuadrados es 93,8%. Son 5254 apartamentos'"
      ],
      "text/latex": [
       "'El porcentaje de apartamentos que no muestra los metros cuadrados es 93,8\\%. Son 5254 apartamentos'"
      ],
      "text/markdown": [
       "'El porcentaje de apartamentos que no muestra los metros cuadrados es 93,8%. Son 5254 apartamentos'"
      ],
      "text/plain": [
       "[1] \"El porcentaje de apartamentos que no muestra los metros cuadrados es 93,8%. Son 5254 apartamentos\""
      ]
     },
     "metadata": {},
     "output_type": "display_data"
    }
   ],
   "source": [
    "df_madrid%>%\n",
    "count(Square.Meters=='NA') %>%\n",
    "mutate(pct = n / sum(n) * 100) \n",
    "\n",
    "paste('El porcentaje de apartamentos que no muestra los metros cuadrados es 93,8%. Son 5254 apartamentos')\n"
   ]
  },
  {
   "cell_type": "markdown",
   "metadata": {},
   "source": [
    "De todos los apartamentos que tienen un valor de metros cuadrados diferente de NA \n",
    "¿Que porcentaje de los apartamentos tienen 0 metros cuadrados?"
   ]
  },
  {
   "cell_type": "code",
   "execution_count": 12,
   "metadata": {},
   "outputs": [
    {
     "data": {
      "text/html": [
       "<table>\n",
       "<thead><tr><th scope=col>Square.Meters == \"0\"</th><th scope=col>n</th><th scope=col>pct</th></tr></thead>\n",
       "<tbody>\n",
       "\t<tr><td>FALSE   </td><td>219     </td><td>63.11239</td></tr>\n",
       "\t<tr><td> TRUE   </td><td>128     </td><td>36.88761</td></tr>\n",
       "</tbody>\n",
       "</table>\n"
      ],
      "text/latex": [
       "\\begin{tabular}{r|lll}\n",
       " Square.Meters == \"0\" & n & pct\\\\\n",
       "\\hline\n",
       "\t FALSE    & 219      & 63.11239\\\\\n",
       "\t  TRUE    & 128      & 36.88761\\\\\n",
       "\\end{tabular}\n"
      ],
      "text/markdown": [
       "\n",
       "| Square.Meters == \"0\" | n | pct |\n",
       "|---|---|---|\n",
       "| FALSE    | 219      | 63.11239 |\n",
       "|  TRUE    | 128      | 36.88761 |\n",
       "\n"
      ],
      "text/plain": [
       "  Square.Meters == \"0\" n   pct     \n",
       "1 FALSE                219 63.11239\n",
       "2  TRUE                128 36.88761"
      ]
     },
     "metadata": {},
     "output_type": "display_data"
    },
    {
     "data": {
      "text/html": [
       "'Los apartamentos que no tienen NA en los metros cuadrados son 347 como veíamos antes, de los cuales 128 tienen 0 metros cuadrados y esto supone un 36.88% del total de apartamentos.'"
      ],
      "text/latex": [
       "'Los apartamentos que no tienen NA en los metros cuadrados son 347 como veíamos antes, de los cuales 128 tienen 0 metros cuadrados y esto supone un 36.88\\% del total de apartamentos.'"
      ],
      "text/markdown": [
       "'Los apartamentos que no tienen NA en los metros cuadrados son 347 como veíamos antes, de los cuales 128 tienen 0 metros cuadrados y esto supone un 36.88% del total de apartamentos.'"
      ],
      "text/plain": [
       "[1] \"Los apartamentos que no tienen NA en los metros cuadrados son 347 como veíamos antes, de los cuales 128 tienen 0 metros cuadrados y esto supone un 36.88% del total de apartamentos.\""
      ]
     },
     "metadata": {},
     "output_type": "display_data"
    }
   ],
   "source": [
    "df_madrid%>%\n",
    "filter(Square.Meters!='NA')%>%\n",
    "count(Square.Meters=='0') %>%\n",
    "mutate(pct = n / sum(n) * 100) \n",
    "\n",
    "paste('Los apartamentos que no tienen NA en los metros cuadrados son 347 como veíamos antes, de los cuales 128 tienen 0 metros cuadrados y esto supone un 36.88% del total de apartamentos.')"
   ]
  },
  {
   "cell_type": "markdown",
   "metadata": {},
   "source": [
    "Reemplazar todos los 0m^2 por NA "
   ]
  },
  {
   "cell_type": "code",
   "execution_count": 13,
   "metadata": {
    "scrolled": true
   },
   "outputs": [],
   "source": [
    "df_madrid<-df_madrid %>%\n",
    "mutate(Square.Meters = na_if(Square.Meters, \"0\"))"
   ]
  },
  {
   "cell_type": "code",
   "execution_count": 14,
   "metadata": {},
   "outputs": [
    {
     "data": {
      "text/html": [
       "<table>\n",
       "<thead><tr><th scope=col>Square.Meters == \"NA\"</th><th scope=col>n</th><th scope=col>pct</th></tr></thead>\n",
       "<tbody>\n",
       "\t<tr><td>FALSE    </td><td> 219     </td><td> 3.910016</td></tr>\n",
       "\t<tr><td>   NA    </td><td>5382     </td><td>96.089984</td></tr>\n",
       "</tbody>\n",
       "</table>\n"
      ],
      "text/latex": [
       "\\begin{tabular}{r|lll}\n",
       " Square.Meters == \"NA\" & n & pct\\\\\n",
       "\\hline\n",
       "\t FALSE     &  219      &  3.910016\\\\\n",
       "\t    NA     & 5382      & 96.089984\\\\\n",
       "\\end{tabular}\n"
      ],
      "text/markdown": [
       "\n",
       "| Square.Meters == \"NA\" | n | pct |\n",
       "|---|---|---|\n",
       "| FALSE     |  219      |  3.910016 |\n",
       "|    NA     | 5382      | 96.089984 |\n",
       "\n"
      ],
      "text/plain": [
       "  Square.Meters == \"NA\" n    pct      \n",
       "1 FALSE                  219  3.910016\n",
       "2    NA                 5382 96.089984"
      ]
     },
     "metadata": {},
     "output_type": "display_data"
    }
   ],
   "source": [
    "#confirmo contando los NA. el valor actual es = a 128 + 5254\n",
    "df_madrid%>%\n",
    "count(Square.Meters=='NA') %>%\n",
    "mutate(pct = n / sum(n) * 100) "
   ]
  },
  {
   "cell_type": "markdown",
   "metadata": {},
   "source": [
    "Son muchos, vamos a intentar crear un modelo que nos prediga cuantos son los metros cuadrados en función del resto de variables para tratar de rellenar esos NA. Pero antes de eso deberíamos pintar el histograma de los metros cuadrados y ver si tenemos que filtrar algún elemento más, además crearemos una variable sintética nueva basada en la similitud entre barrios."
   ]
  },
  {
   "cell_type": "code",
   "execution_count": 15,
   "metadata": {},
   "outputs": [
    {
     "name": "stderr",
     "output_type": "stream",
     "text": [
      "Warning message:\n",
      "\"Removed 5382 rows containing non-finite values (stat_bin).\""
     ]
    },
    {
     "data": {
      "image/png": "[encoded data removed]",
      "text/plain": [
       "plot without title"
      ]
     },
     "metadata": {},
     "output_type": "display_data"
    }
   ],
   "source": [
    "ggplot(data = df_madrid) +\n",
    "  geom_histogram(mapping = aes(x = Square.Meters), binwidth = 5)\n",
    "\n",
    "#ggplot(data = df_madrid) +\n",
    "#geom_boxplot(mapping = aes(x = Square.Meters))\n",
    "\n",
    "#q3<-quantile(df_madrid$Square.Meters,0.75, na.rm=T)\n",
    "#q1<-quantile(df_madrid$Square.Meters,0.25, na.rm=T)\n",
    "#iqr<-q3-q1\n",
    "#paste('los outliers empezarían en: ',q3 + iqr, 'pero tengo tan pocos valores no-NA que los dejo')"
   ]
  },
  {
   "cell_type": "markdown",
   "metadata": {},
   "source": []
  },
  {
   "cell_type": "markdown",
   "metadata": {},
   "source": [
    "Asigna el valor NA a la columna Square.Meters de los apartamentos que tengan menos de 20 m^2"
   ]
  },
  {
   "cell_type": "code",
   "execution_count": 16,
   "metadata": {},
   "outputs": [
    {
     "data": {
      "text/html": [
       "<table>\n",
       "<thead><tr><th scope=col>Square.Meters &lt; 20</th><th scope=col>n</th></tr></thead>\n",
       "<tbody>\n",
       "\t<tr><td>FALSE</td><td> 174 </td></tr>\n",
       "\t<tr><td> TRUE</td><td>  45 </td></tr>\n",
       "\t<tr><td>   NA</td><td>5382 </td></tr>\n",
       "</tbody>\n",
       "</table>\n"
      ],
      "text/latex": [
       "\\begin{tabular}{r|ll}\n",
       " Square.Meters < 20 & n\\\\\n",
       "\\hline\n",
       "\t FALSE &  174 \\\\\n",
       "\t  TRUE &   45 \\\\\n",
       "\t    NA & 5382 \\\\\n",
       "\\end{tabular}\n"
      ],
      "text/markdown": [
       "\n",
       "| Square.Meters < 20 | n |\n",
       "|---|---|\n",
       "| FALSE |  174  |\n",
       "|  TRUE |   45  |\n",
       "|    NA | 5382  |\n",
       "\n"
      ],
      "text/plain": [
       "  Square.Meters < 20 n   \n",
       "1 FALSE               174\n",
       "2  TRUE                45\n",
       "3    NA              5382"
      ]
     },
     "metadata": {},
     "output_type": "display_data"
    }
   ],
   "source": [
    "#veo cuántos tengo de menos de 20 metros cuadrados\n",
    "df_madrid %>% \n",
    "count(Square.Meters<20)\n"
   ]
  },
  {
   "cell_type": "code",
   "execution_count": 17,
   "metadata": {},
   "outputs": [],
   "source": [
    "#y cuántos hay mayores de 400\n",
    "#df_madrid %>% \n",
    "#count(Square.Meters>400)"
   ]
  },
  {
   "cell_type": "code",
   "execution_count": 18,
   "metadata": {},
   "outputs": [
    {
     "data": {
      "text/plain": [
       "     Neighbourhood   Accommodates      Bathrooms        Bedrooms     \n",
       " Malasaña   : 679   Min.   : 1.000   Min.   :0.000   Min.   : 0.000  \n",
       " Embajadores: 585   1st Qu.: 3.000   1st Qu.:1.000   1st Qu.: 1.000  \n",
       " La Latina  : 571   Median : 4.000   Median :1.000   Median : 1.000  \n",
       " Sol        : 536   Mean   : 4.101   Mean   :1.248   Mean   : 1.453  \n",
       " Cortes     : 441   3rd Qu.: 5.000   3rd Qu.:1.000   3rd Qu.: 2.000  \n",
       " Justicia   : 384   Max.   :16.000   Max.   :6.500   Max.   :10.000  \n",
       " (Other)    :2405                    NA's   :14      NA's   :7       \n",
       "      Beds            Price        Square.Meters    Guests.Included \n",
       " Min.   : 1.000   Min.   : 10.00   Min.   : 22.02   Min.   : 1.000  \n",
       " 1st Qu.: 1.000   1st Qu.: 56.00   1st Qu.: 44.97   1st Qu.: 1.000  \n",
       " Median : 2.000   Median : 75.00   Median : 60.02   Median : 2.000  \n",
       " Mean   : 2.393   Mean   : 88.74   Mean   : 70.91   Mean   : 1.952  \n",
       " 3rd Qu.: 3.000   3rd Qu.:100.00   3rd Qu.: 79.99   3rd Qu.: 2.000  \n",
       " Max.   :16.000   Max.   :850.00   Max.   :480.03   Max.   :15.000  \n",
       " NA's   :8        NA's   :5        NA's   :5427                     \n",
       "  Extra.People    Review.Scores.Rating    Latitude       Longitude     \n",
       " Min.   :  0.00   Min.   : 20.00       Min.   :40.33   Min.   :-3.835  \n",
       " 1st Qu.:  0.00   1st Qu.: 88.00       1st Qu.:40.41   1st Qu.:-3.707  \n",
       " Median : 10.00   Median : 93.00       Median :40.42   Median :-3.702  \n",
       " Mean   :  8.79   Mean   : 91.29       Mean   :40.42   Mean   :-3.699  \n",
       " 3rd Qu.: 15.00   3rd Qu.: 97.00       3rd Qu.:40.43   3rd Qu.:-3.696  \n",
       " Max.   :276.00   Max.   :100.00       Max.   :40.51   Max.   :-3.576  \n",
       "                  NA's   :833                                          \n",
       "  Square.Feet    \n",
       " Min.   :   0.0  \n",
       " 1st Qu.:   0.0  \n",
       " Median : 237.0  \n",
       " Mean   : 392.6  \n",
       " 3rd Qu.: 646.0  \n",
       " Max.   :5167.0  \n",
       " NA's   :5254    "
      ]
     },
     "metadata": {},
     "output_type": "display_data"
    },
    {
     "data": {
      "text/html": [
       "<table>\n",
       "<thead><tr><th scope=col>Square.Meters &lt; 20</th><th scope=col>n</th></tr></thead>\n",
       "<tbody>\n",
       "\t<tr><td>FALSE</td><td> 174 </td></tr>\n",
       "\t<tr><td>   NA</td><td>5427 </td></tr>\n",
       "</tbody>\n",
       "</table>\n"
      ],
      "text/latex": [
       "\\begin{tabular}{r|ll}\n",
       " Square.Meters < 20 & n\\\\\n",
       "\\hline\n",
       "\t FALSE &  174 \\\\\n",
       "\t    NA & 5427 \\\\\n",
       "\\end{tabular}\n"
      ],
      "text/markdown": [
       "\n",
       "| Square.Meters < 20 | n |\n",
       "|---|---|\n",
       "| FALSE |  174  |\n",
       "|    NA | 5427  |\n",
       "\n"
      ],
      "text/plain": [
       "  Square.Meters < 20 n   \n",
       "1 FALSE               174\n",
       "2    NA              5427"
      ]
     },
     "metadata": {},
     "output_type": "display_data"
    }
   ],
   "source": [
    "#los convierto a NA\n",
    "df_madrid$Square.Meters[df_madrid$Square.Meters<20] <- NA\n",
    "#df_madrid$Square.Meters[df_madrid$Square.Meters>400] <- NA\n",
    "\n",
    "#confirmo que ya el mínimo de metros cuadrados está en 20 o más\n",
    "summary(df_madrid)\n",
    "\n",
    "#confirmo que la suma de na coincide con lo anterior (5382) más 45\n",
    "df_madrid %>% \n",
    "count(Square.Meters<20)"
   ]
  },
  {
   "cell_type": "markdown",
   "metadata": {},
   "source": [
    "Existen varios Barrios que todas sus entradas son NA, vamos a eliminar del dataset todos los pisos que pertenecen a estos barrios."
   ]
  },
  {
   "cell_type": "code",
   "execution_count": 19,
   "metadata": {},
   "outputs": [],
   "source": [
    "#table(df_madrid$Neighbourhood,is.na(df_madrid$Square.Meters))"
   ]
  },
  {
   "cell_type": "code",
   "execution_count": 20,
   "metadata": {},
   "outputs": [
    {
     "data": {
      "text/plain": [
       "                     \n",
       "                      TRUE\n",
       "  Aluche                81\n",
       "  Arganzuela             2\n",
       "  Atocha                 5\n",
       "  Bellas Vistas         27\n",
       "  Berruguete            23\n",
       "  Castillejos           35\n",
       "  Delicias              25\n",
       "  Estrella               4\n",
       "  Fuencarral-el Pardo   27\n",
       "  Fuencarral-El Pardo    2\n",
       "  Gaztambide            40\n",
       "  Guindalera            54\n",
       "  Hispanoamérica        28\n",
       "  Hortaleza             41\n",
       "  Ibiza                 46\n",
       "  Imperial              33\n",
       "  La Chopera            22\n",
       "  Legazpi               12\n",
       "  Moncloa               14\n",
       "  Nueva España          26\n",
       "  Prosperidad           39\n",
       "  Puente de Vallecas    47\n",
       "  Tetuán                 3\n",
       "  Valdeacederas         18\n",
       "  Vallehermosa          18\n",
       "  Villa de Vallecas     12\n",
       "  Villaverde            16"
      ]
     },
     "metadata": {},
     "output_type": "display_data"
    },
    {
     "data": {
      "text/html": [
       "27"
      ],
      "text/latex": [
       "27"
      ],
      "text/markdown": [
       "27"
      ],
      "text/plain": [
       "[1] 27"
      ]
     },
     "metadata": {},
     "output_type": "display_data"
    },
    {
     "data": {
      "text/html": [
       "65"
      ],
      "text/latex": [
       "65"
      ],
      "text/markdown": [
       "65"
      ],
      "text/plain": [
       "[1] 65"
      ]
     },
     "metadata": {},
     "output_type": "display_data"
    }
   ],
   "source": [
    "\n",
    "#barrios con todas las entradas na:\n",
    "barrios_na<- df_madrid %>%\n",
    "group_by(Neighbourhood) %>%\n",
    "filter(all(is.na(Square.Meters)))%>%\n",
    "arrange(Neighbourhood)\n",
    "\n",
    "barrios_na$Neighbourhood<-as.factor(barrios_na$Neighbourhood)\n",
    "barrios_na$Neighbourhood<-droplevels(barrios_na$Neighbourhood)\n",
    "#compruebo los barrios que tienen todo NA\n",
    "table(barrios_na$Neighbourhood,is.na(barrios_na$Square.Meters))\n",
    "#cuento el número de barrios todo NA y el total\n",
    "n_distinct(barrios_na$Neighbourhood)\n",
    "n_distinct(df_madrid$Neighbourhood)\n"
   ]
  },
  {
   "cell_type": "code",
   "execution_count": 21,
   "metadata": {
    "scrolled": true
   },
   "outputs": [
    {
     "data": {
      "text/html": [
       "<ol class=list-inline>\n",
       "\t<li>5601</li>\n",
       "\t<li>13</li>\n",
       "</ol>\n"
      ],
      "text/latex": [
       "\\begin{enumerate*}\n",
       "\\item 5601\n",
       "\\item 13\n",
       "\\end{enumerate*}\n"
      ],
      "text/markdown": [
       "1. 5601\n",
       "2. 13\n",
       "\n",
       "\n"
      ],
      "text/plain": [
       "[1] 5601   13"
      ]
     },
     "metadata": {},
     "output_type": "display_data"
    },
    {
     "data": {
      "text/html": [
       "<ol class=list-inline>\n",
       "\t<li>700</li>\n",
       "\t<li>13</li>\n",
       "</ol>\n"
      ],
      "text/latex": [
       "\\begin{enumerate*}\n",
       "\\item 700\n",
       "\\item 13\n",
       "\\end{enumerate*}\n"
      ],
      "text/markdown": [
       "1. 700\n",
       "2. 13\n",
       "\n",
       "\n"
      ],
      "text/plain": [
       "[1] 700  13"
      ]
     },
     "metadata": {},
     "output_type": "display_data"
    }
   ],
   "source": [
    "#compruebo dimensiones de todos los barrios y barrios que todo son NA\n",
    "dim(df_madrid)\n",
    "dim(barrios_na)"
   ]
  },
  {
   "cell_type": "code",
   "execution_count": 22,
   "metadata": {},
   "outputs": [],
   "source": [
    "#dejo el dataframe sin barrios que todo son NA en los metros cuadrados\n",
    "df_madrid<-df_madrid %>%\n",
    "#barrios_sin_na<- df_madrid %>%\n",
    "group_by(Neighbourhood) %>%\n",
    "filter(!all(is.na(Square.Meters)))%>%\n",
    "arrange(Neighbourhood)\n"
   ]
  },
  {
   "cell_type": "code",
   "execution_count": 23,
   "metadata": {},
   "outputs": [
    {
     "data": {
      "text/html": [
       "<ol class=list-inline>\n",
       "\t<li>4901</li>\n",
       "\t<li>13</li>\n",
       "</ol>\n"
      ],
      "text/latex": [
       "\\begin{enumerate*}\n",
       "\\item 4901\n",
       "\\item 13\n",
       "\\end{enumerate*}\n"
      ],
      "text/markdown": [
       "1. 4901\n",
       "2. 13\n",
       "\n",
       "\n"
      ],
      "text/plain": [
       "[1] 4901   13"
      ]
     },
     "metadata": {},
     "output_type": "display_data"
    }
   ],
   "source": [
    "#confirmo que me encajan las dimensiones (5601 observaciones menos 700 dan este resultado)\n",
    "dim(df_madrid)\n"
   ]
  },
  {
   "cell_type": "code",
   "execution_count": 24,
   "metadata": {},
   "outputs": [
    {
     "data": {
      "text/plain": [
       "                  \n",
       "                   FALSE TRUE\n",
       "  Acacias              3   30\n",
       "  Adelfas              1   25\n",
       "  Almagro              1   74\n",
       "  Almenara             5   15\n",
       "  Arapiles             2   64\n",
       "  Argüelles            3  115\n",
       "  Barajas              1   10\n",
       "  Carabanchel          3   73\n",
       "  Castellana           3   48\n",
       "  Castilla             3   14\n",
       "  Centro               1   12\n",
       "  Chamberí             1   13\n",
       "  Ciudad Jardin        1   17\n",
       "  Ciudad Lineal        2   74\n",
       "  Cortes               9  432\n",
       "  Cuatro Caminos       2   43\n",
       "  El Tréntaiseis       1    9\n",
       "  El Viso              1   17\n",
       "  Embajadores         20  565\n",
       "  Fuente del Berro     1   32\n",
       "  Goya                 2  106\n",
       "  Jerónimos            2   31\n",
       "  Justicia             8  376\n",
       "  La Latina           20  551\n",
       "  Lista                2   45\n",
       "  Malasaña            26  653\n",
       "  Moratalaz            1   14\n",
       "  Pacifico             2   42\n",
       "  Palacio              5  289\n",
       "  Palos do Moguer      2   92\n",
       "  Recoletos            2   92\n",
       "  Retiro               1    6\n",
       "  Rios Rosas           1   36\n",
       "  San Blas             3   24\n",
       "  Sol                 28  508\n",
       "  Trafalgar            3  151\n",
       "  Usera                1   25\n",
       "  Vicálvaro            1    4"
      ]
     },
     "metadata": {},
     "output_type": "display_data"
    },
    {
     "data": {
      "text/html": [
       "38"
      ],
      "text/latex": [
       "38"
      ],
      "text/markdown": [
       "38"
      ],
      "text/plain": [
       "[1] 38"
      ]
     },
     "metadata": {},
     "output_type": "display_data"
    }
   ],
   "source": [
    "#confirmo que no me quedan barrios con todo NA\n",
    "\n",
    "df_madrid$Neighbourhood<-droplevels(df_madrid$Neighbourhood)\n",
    "table(df_madrid$Neighbourhood,is.na(df_madrid$Square.Meters))\n",
    "#y cuento el número de barrios que me quedan: 65-27\n",
    "n_distinct(df_madrid$Neighbourhood)"
   ]
  },
  {
   "cell_type": "markdown",
   "metadata": {},
   "source": [
    "El barrio parece ser un indicador importante para los metros cuadrados de un apartamento.\n",
    "\n",
    "Vamos a agrupar los barrios por metros cuadrados. Podemos usar una matriz de similaridad de Tukey tal y como hicimos en el curso de estadística:"
   ]
  },
  {
   "cell_type": "code",
   "execution_count": 25,
   "metadata": {},
   "outputs": [
    {
     "name": "stderr",
     "output_type": "stream",
     "text": [
      "Warning message:\n",
      "\"package 'reshape2' was built under R version 3.6.3\"\n",
      "Attaching package: 'reshape2'\n",
      "\n",
      "The following object is masked from 'package:tidyr':\n",
      "\n",
      "    smiths\n",
      "\n"
     ]
    },
    {
     "data": {
      "image/png": "[encoded data removed]",
      "text/plain": [
       "plot without title"
      ]
     },
     "metadata": {},
     "output_type": "display_data"
    }
   ],
   "source": [
    "tky<-TukeyHSD(aov( formula=Square.Meters~Neighbourhood, data=df_madrid ))\n",
    "tky.result<-data.frame(tky$Neighbourhood)\n",
    "cn <-sort(unique(df_madrid$Neighbourhood))\n",
    "resm <- matrix(NA, length(cn),length(cn))\n",
    "rownames(resm) <- cn\n",
    "colnames(resm) <- cn\n",
    "resm[lower.tri(resm) ] <- round(tky.result$p.adj,4)\n",
    "resm[upper.tri(resm) ] <- t(resm)[upper.tri(resm)] \n",
    "diag(resm) <- 1\n",
    "library(ggplot2)\n",
    "library(reshape2)\n",
    "dfResm <- melt(resm)\n",
    "ggplot(dfResm, aes(x=Var1, y=Var2, fill=value))+\n",
    "  geom_tile(colour = \"black\")+\n",
    "  scale_fill_gradient(low = \"white\",high = \"steelblue\")+\n",
    "  ylab(\"Class\")+xlab(\"Class\")+theme_bw()+\n",
    "  theme(axis.text.x = element_text(angle = 90, hjust = 1,size=7),axis.text.y = element_text(size = 5),legend.position=\"none\")"
   ]
  },
  {
   "cell_type": "markdown",
   "metadata": {},
   "source": [
    "Usando como variable de distancia: 1-resm\n",
    "Dibuja un dendrograma de los diferentes barrios.\n"
   ]
  },
  {
   "cell_type": "code",
   "execution_count": 26,
   "metadata": {},
   "outputs": [
    {
     "name": "stderr",
     "output_type": "stream",
     "text": [
      "\n",
      "---------------------\n",
      "Welcome to dendextend version 1.14.0\n",
      "Type citation('dendextend') for how to cite the package.\n",
      "\n",
      "Type browseVignettes(package = 'dendextend') for the package vignette.\n",
      "The github page is: https://github.com/talgalili/dendextend/\n",
      "\n",
      "Suggestions and bug-reports can be submitted at: https://github.com/talgalili/dendextend/issues\n",
      "Or contact: <tal.galili@gmail.com>\n",
      "\n",
      "\tTo suppress this message use:  suppressPackageStartupMessages(library(dendextend))\n",
      "---------------------\n",
      "\n",
      "\n",
      "Attaching package: 'dendextend'\n",
      "\n",
      "The following object is masked from 'package:stats':\n",
      "\n",
      "    cutree\n",
      "\n"
     ]
    }
   ],
   "source": [
    "#install.packages('dendextend')\n",
    "suppressWarnings(library(dendextend))\n",
    "#packageVersion(\"dendextend\")\n",
    "library(cluster)"
   ]
  },
  {
   "cell_type": "code",
   "execution_count": 27,
   "metadata": {},
   "outputs": [],
   "source": [
    "#d1<-1-resm\n",
    "#d1\n",
    "#resm\n",
    "#head(resm)"
   ]
  },
  {
   "cell_type": "code",
   "execution_count": 28,
   "metadata": {},
   "outputs": [
    {
     "data": {
      "image/png": "[encoded data removed]",
      "text/plain": [
       "plot without title"
      ]
     },
     "metadata": {},
     "output_type": "display_data"
    }
   ],
   "source": [
    "d<-as.dist(1-resm)\n",
    "hc<-hclust(d,method='average')\n",
    "hcd<-as.dendrogram(hc)\n",
    "par(cex=0.5)\n",
    "plot(color_branches(hcd,h=0.01),horiz=F)\n",
    "abline(h=0.01,col=\"red\")\n",
    "options(repr.plot.height=4,repr.plot.width=8,repr.plot.res =400)"
   ]
  },
  {
   "cell_type": "code",
   "execution_count": 29,
   "metadata": {},
   "outputs": [],
   "source": [
    "cl<-cutree_1h.dendrogram(hcd,h=0.01)\n",
    "#cl<-cutree(hcd,h=0.01)\n"
   ]
  },
  {
   "cell_type": "code",
   "execution_count": 30,
   "metadata": {},
   "outputs": [
    {
     "data": {
      "image/png": "[encoded data removed]",
      "text/plain": [
       "Plot with title \"Silhouette plot of (x = cl, dist = d)\""
      ]
     },
     "metadata": {},
     "output_type": "display_data"
    }
   ],
   "source": [
    "#df_madrid\n",
    "\n",
    "ss<-silhouette(cl, d)\n",
    "plot(ss,col=1:max(cl),border=NA)"
   ]
  },
  {
   "cell_type": "markdown",
   "metadata": {},
   "source": [
    "¿Que punto de corte sería el aconsejable?, ¿cuantos clusters aparecen?"
   ]
  },
  {
   "cell_type": "code",
   "execution_count": 165,
   "metadata": {},
   "outputs": [
    {
     "data": {
      "text/html": [
       "<ol class=list-inline>\n",
       "\t<li>'Acacias'</li>\n",
       "\t<li>'Adelfas'</li>\n",
       "\t<li>'Almagro'</li>\n",
       "\t<li>'Almenara'</li>\n",
       "\t<li>'Arapiles'</li>\n",
       "\t<li>'Argüelles'</li>\n",
       "\t<li>'Barajas'</li>\n",
       "\t<li>'Carabanchel'</li>\n",
       "\t<li>'Castilla'</li>\n",
       "\t<li>'Centro'</li>\n",
       "\t<li>'Chamberí'</li>\n",
       "\t<li>'Ciudad Jardin'</li>\n",
       "\t<li>'Ciudad Lineal'</li>\n",
       "\t<li>'Cortes'</li>\n",
       "\t<li>'Cuatro Caminos'</li>\n",
       "\t<li>'El Viso'</li>\n",
       "\t<li>'Embajadores'</li>\n",
       "\t<li>'Goya'</li>\n",
       "\t<li>'Justicia'</li>\n",
       "\t<li>'La Latina'</li>\n",
       "\t<li>'Malasaña'</li>\n",
       "\t<li>'Palacio'</li>\n",
       "\t<li>'Palos do Moguer'</li>\n",
       "\t<li>'Recoletos'</li>\n",
       "\t<li>'Retiro'</li>\n",
       "\t<li>'Sol'</li>\n",
       "\t<li>'Trafalgar'</li>\n",
       "\t<li>'Usera'</li>\n",
       "\t<li>'Vicálvaro'</li>\n",
       "</ol>\n"
      ],
      "text/latex": [
       "\\begin{enumerate*}\n",
       "\\item 'Acacias'\n",
       "\\item 'Adelfas'\n",
       "\\item 'Almagro'\n",
       "\\item 'Almenara'\n",
       "\\item 'Arapiles'\n",
       "\\item 'Argüelles'\n",
       "\\item 'Barajas'\n",
       "\\item 'Carabanchel'\n",
       "\\item 'Castilla'\n",
       "\\item 'Centro'\n",
       "\\item 'Chamberí'\n",
       "\\item 'Ciudad Jardin'\n",
       "\\item 'Ciudad Lineal'\n",
       "\\item 'Cortes'\n",
       "\\item 'Cuatro Caminos'\n",
       "\\item 'El Viso'\n",
       "\\item 'Embajadores'\n",
       "\\item 'Goya'\n",
       "\\item 'Justicia'\n",
       "\\item 'La Latina'\n",
       "\\item 'Malasaña'\n",
       "\\item 'Palacio'\n",
       "\\item 'Palos do Moguer'\n",
       "\\item 'Recoletos'\n",
       "\\item 'Retiro'\n",
       "\\item 'Sol'\n",
       "\\item 'Trafalgar'\n",
       "\\item 'Usera'\n",
       "\\item 'Vicálvaro'\n",
       "\\end{enumerate*}\n"
      ],
      "text/markdown": [
       "1. 'Acacias'\n",
       "2. 'Adelfas'\n",
       "3. 'Almagro'\n",
       "4. 'Almenara'\n",
       "5. 'Arapiles'\n",
       "6. 'Argüelles'\n",
       "7. 'Barajas'\n",
       "8. 'Carabanchel'\n",
       "9. 'Castilla'\n",
       "10. 'Centro'\n",
       "11. 'Chamberí'\n",
       "12. 'Ciudad Jardin'\n",
       "13. 'Ciudad Lineal'\n",
       "14. 'Cortes'\n",
       "15. 'Cuatro Caminos'\n",
       "16. 'El Viso'\n",
       "17. 'Embajadores'\n",
       "18. 'Goya'\n",
       "19. 'Justicia'\n",
       "20. 'La Latina'\n",
       "21. 'Malasaña'\n",
       "22. 'Palacio'\n",
       "23. 'Palos do Moguer'\n",
       "24. 'Recoletos'\n",
       "25. 'Retiro'\n",
       "26. 'Sol'\n",
       "27. 'Trafalgar'\n",
       "28. 'Usera'\n",
       "29. 'Vicálvaro'\n",
       "\n",
       "\n"
      ],
      "text/plain": [
       " [1] \"Acacias\"         \"Adelfas\"         \"Almagro\"         \"Almenara\"       \n",
       " [5] \"Arapiles\"        \"Argüelles\"       \"Barajas\"         \"Carabanchel\"    \n",
       " [9] \"Castilla\"        \"Centro\"          \"Chamberí\"        \"Ciudad Jardin\"  \n",
       "[13] \"Ciudad Lineal\"   \"Cortes\"          \"Cuatro Caminos\"  \"El Viso\"        \n",
       "[17] \"Embajadores\"     \"Goya\"            \"Justicia\"        \"La Latina\"      \n",
       "[21] \"Malasaña\"        \"Palacio\"         \"Palos do Moguer\" \"Recoletos\"      \n",
       "[25] \"Retiro\"          \"Sol\"             \"Trafalgar\"       \"Usera\"          \n",
       "[29] \"Vicálvaro\"      "
      ]
     },
     "metadata": {},
     "output_type": "display_data"
    },
    {
     "data": {
      "text/html": [
       "<ol class=list-inline>\n",
       "\t<li>'Castellana'</li>\n",
       "\t<li>'El Tréntaiseis'</li>\n",
       "\t<li>'Fuente del Berro'</li>\n",
       "\t<li>'Lista'</li>\n",
       "\t<li>'Moratalaz'</li>\n",
       "\t<li>'Pacifico'</li>\n",
       "\t<li>'San Blas'</li>\n",
       "</ol>\n"
      ],
      "text/latex": [
       "\\begin{enumerate*}\n",
       "\\item 'Castellana'\n",
       "\\item 'El Tréntaiseis'\n",
       "\\item 'Fuente del Berro'\n",
       "\\item 'Lista'\n",
       "\\item 'Moratalaz'\n",
       "\\item 'Pacifico'\n",
       "\\item 'San Blas'\n",
       "\\end{enumerate*}\n"
      ],
      "text/markdown": [
       "1. 'Castellana'\n",
       "2. 'El Tréntaiseis'\n",
       "3. 'Fuente del Berro'\n",
       "4. 'Lista'\n",
       "5. 'Moratalaz'\n",
       "6. 'Pacifico'\n",
       "7. 'San Blas'\n",
       "\n",
       "\n"
      ],
      "text/plain": [
       "[1] \"Castellana\"       \"El Tréntaiseis\"   \"Fuente del Berro\" \"Lista\"           \n",
       "[5] \"Moratalaz\"        \"Pacifico\"         \"San Blas\"        "
      ]
     },
     "metadata": {},
     "output_type": "display_data"
    },
    {
     "data": {
      "text/html": [
       "<ol class=list-inline>\n",
       "\t<li>'Jerónimos'</li>\n",
       "\t<li>'Rios Rosas'</li>\n",
       "</ol>\n"
      ],
      "text/latex": [
       "\\begin{enumerate*}\n",
       "\\item 'Jerónimos'\n",
       "\\item 'Rios Rosas'\n",
       "\\end{enumerate*}\n"
      ],
      "text/markdown": [
       "1. 'Jerónimos'\n",
       "2. 'Rios Rosas'\n",
       "\n",
       "\n"
      ],
      "text/plain": [
       "[1] \"Jerónimos\"  \"Rios Rosas\""
      ]
     },
     "metadata": {},
     "output_type": "display_data"
    },
    {
     "data": {
      "text/html": [
       "'El punto de corte lo pongo en 0.01 tras varias pruebas con diferentes métodos y cortes, confirmo con el silhouette que obtengo un valor muy alto, lo cual me dice que los clusters pueden ser acertados para la agrupación. Aparecen 3 clusters'"
      ],
      "text/latex": [
       "'El punto de corte lo pongo en 0.01 tras varias pruebas con diferentes métodos y cortes, confirmo con el silhouette que obtengo un valor muy alto, lo cual me dice que los clusters pueden ser acertados para la agrupación. Aparecen 3 clusters'"
      ],
      "text/markdown": [
       "'El punto de corte lo pongo en 0.01 tras varias pruebas con diferentes métodos y cortes, confirmo con el silhouette que obtengo un valor muy alto, lo cual me dice que los clusters pueden ser acertados para la agrupación. Aparecen 3 clusters'"
      ],
      "text/plain": [
       "[1] \"El punto de corte lo pongo en 0.01 tras varias pruebas con diferentes métodos y cortes, confirmo con el silhouette que obtengo un valor muy alto, lo cual me dice que los clusters pueden ser acertados para la agrupación. Aparecen 3 clusters\""
      ]
     },
     "metadata": {},
     "output_type": "display_data"
    }
   ],
   "source": [
    "names(cl[cl==1])\n",
    "names(cl[cl==2])\n",
    "names(cl[cl==3])\n",
    "\n",
    "paste('El punto de corte lo pongo en 0.01 tras varias pruebas con diferentes métodos y cortes, confirmo con el silhouette que obtengo un valor muy alto, lo cual me dice que los clusters pueden ser acertados para la agrupación. Aparecen 3 clusters')"
   ]
  },
  {
   "cell_type": "code",
   "execution_count": 32,
   "metadata": {},
   "outputs": [],
   "source": [
    "#levels(df_madrid$Neighbourhood)"
   ]
  },
  {
   "cell_type": "code",
   "execution_count": 33,
   "metadata": {},
   "outputs": [
    {
     "data": {
      "text/html": [
       "'integer'"
      ],
      "text/latex": [
       "'integer'"
      ],
      "text/markdown": [
       "'integer'"
      ],
      "text/plain": [
       "[1] \"integer\""
      ]
     },
     "metadata": {},
     "output_type": "display_data"
    },
    {
     "data": {
      "text/plain": [
       "cl\n",
       " 1  2  3 \n",
       "29  7  2 "
      ]
     },
     "metadata": {},
     "output_type": "display_data"
    }
   ],
   "source": [
    "#cut(hcd, h = 0.01)$lower\n",
    "typeof(cl)\n",
    "#cl\n",
    "#dim(cl)\n",
    "table(cl)\n",
    "\n"
   ]
  },
  {
   "cell_type": "markdown",
   "metadata": {},
   "source": [
    "Vamos a crear una nueva columna en el dataframe df_madrid con un nuevo identificador marcado por los clusters obtenidos. Esta columna la llamaremos neighb_id"
   ]
  },
  {
   "cell_type": "code",
   "execution_count": 167,
   "metadata": {},
   "outputs": [
    {
     "data": {
      "text/html": [
       "<table>\n",
       "<thead><tr><th></th><th scope=col>Neighbourhood</th><th scope=col>neighb_id</th></tr></thead>\n",
       "<tbody>\n",
       "\t<tr><th scope=row>Acacias</th><td>Acacias  </td><td>1        </td></tr>\n",
       "\t<tr><th scope=row>Adelfas</th><td>Adelfas  </td><td>1        </td></tr>\n",
       "\t<tr><th scope=row>Almagro</th><td>Almagro  </td><td>1        </td></tr>\n",
       "\t<tr><th scope=row>Almenara</th><td>Almenara </td><td>1        </td></tr>\n",
       "\t<tr><th scope=row>Arapiles</th><td>Arapiles </td><td>1        </td></tr>\n",
       "\t<tr><th scope=row>Argüelles</th><td>Argüelles</td><td>1        </td></tr>\n",
       "</tbody>\n",
       "</table>\n"
      ],
      "text/latex": [
       "\\begin{tabular}{r|ll}\n",
       "  & Neighbourhood & neighb\\_id\\\\\n",
       "\\hline\n",
       "\tAcacias & Acacias   & 1        \\\\\n",
       "\tAdelfas & Adelfas   & 1        \\\\\n",
       "\tAlmagro & Almagro   & 1        \\\\\n",
       "\tAlmenara & Almenara  & 1        \\\\\n",
       "\tArapiles & Arapiles  & 1        \\\\\n",
       "\tArgüelles & Argüelles & 1        \\\\\n",
       "\\end{tabular}\n"
      ],
      "text/markdown": [
       "\n",
       "| <!--/--> | Neighbourhood | neighb_id |\n",
       "|---|---|---|\n",
       "| Acacias | Acacias   | 1         |\n",
       "| Adelfas | Adelfas   | 1         |\n",
       "| Almagro | Almagro   | 1         |\n",
       "| Almenara | Almenara  | 1         |\n",
       "| Arapiles | Arapiles  | 1         |\n",
       "| Argüelles | Argüelles | 1         |\n",
       "\n"
      ],
      "text/plain": [
       "          Neighbourhood neighb_id\n",
       "Acacias   Acacias       1        \n",
       "Adelfas   Adelfas       1        \n",
       "Almagro   Almagro       1        \n",
       "Almenara  Almenara      1        \n",
       "Arapiles  Arapiles      1        \n",
       "Argüelles Argüelles     1        "
      ]
     },
     "metadata": {},
     "output_type": "display_data"
    }
   ],
   "source": [
    "df=data.frame(Neighbourhood= levels(df_madrid$Neighbourhood),neighb_id=as.factor(cl))\n",
    "head(df)"
   ]
  },
  {
   "cell_type": "code",
   "execution_count": 35,
   "metadata": {},
   "outputs": [
    {
     "data": {
      "text/plain": [
       "     Neighbourhood   Accommodates      Bathrooms        Bedrooms    \n",
       " Malasaña   : 679   Min.   : 1.000   Min.   :0.000   Min.   : 0.00  \n",
       " Embajadores: 585   1st Qu.: 3.000   1st Qu.:1.000   1st Qu.: 1.00  \n",
       " La Latina  : 571   Median : 4.000   Median :1.000   Median : 1.00  \n",
       " Sol        : 536   Mean   : 4.091   Mean   :1.244   Mean   : 1.42  \n",
       " Cortes     : 441   3rd Qu.: 5.000   3rd Qu.:1.000   3rd Qu.: 2.00  \n",
       " Justicia   : 384   Max.   :16.000   Max.   :6.000   Max.   :10.00  \n",
       " (Other)    :1705                    NA's   :14      NA's   :7      \n",
       "      Beds            Price        Square.Meters    Guests.Included \n",
       " Min.   : 1.000   Min.   : 18.00   Min.   : 22.02   Min.   : 1.000  \n",
       " 1st Qu.: 1.000   1st Qu.: 59.00   1st Qu.: 44.97   1st Qu.: 1.000  \n",
       " Median : 2.000   Median : 75.00   Median : 60.02   Median : 2.000  \n",
       " Mean   : 2.366   Mean   : 90.39   Mean   : 70.91   Mean   : 1.954  \n",
       " 3rd Qu.: 3.000   3rd Qu.:100.00   3rd Qu.: 79.99   3rd Qu.: 2.000  \n",
       " Max.   :16.000   Max.   :800.00   Max.   :480.03   Max.   :15.000  \n",
       " NA's   :8        NA's   :5        NA's   :4727                     \n",
       "  Extra.People     Review.Scores.Rating    Latitude       Longitude     \n",
       " Min.   :  0.000   Min.   : 20.00       Min.   :40.36   Min.   :-3.761  \n",
       " 1st Qu.:  0.000   1st Qu.: 88.00       1st Qu.:40.41   1st Qu.:-3.707  \n",
       " Median : 10.000   Median : 93.00       Median :40.42   Median :-3.702  \n",
       " Mean   :  9.019   Mean   : 91.41       Mean   :40.42   Mean   :-3.700  \n",
       " 3rd Qu.: 15.000   3rd Qu.: 97.00       3rd Qu.:40.42   3rd Qu.:-3.697  \n",
       " Max.   :276.000   Max.   :100.00       Max.   :40.48   Max.   :-3.576  \n",
       "                   NA's   :692                                          \n",
       "  Square.Feet     neighb_id\n",
       " Min.   :   0.0   1:4604   \n",
       " 1st Qu.:   0.0   2: 227   \n",
       " Median : 323.0   3:  70   \n",
       " Mean   : 406.7            \n",
       " 3rd Qu.: 646.0            \n",
       " Max.   :5167.0            \n",
       " NA's   :4567              "
      ]
     },
     "metadata": {},
     "output_type": "display_data"
    }
   ],
   "source": [
    "df_madrid<- df_madrid %>% left_join(df,by = \"Neighbourhood\")\n",
    "summary(df_madrid)"
   ]
  },
  {
   "cell_type": "code",
   "execution_count": 36,
   "metadata": {},
   "outputs": [],
   "source": [
    "#colnames(df_madrid)\n",
    "#%>% select(Accommodates,Bathrooms,Bedrooms,Beds,Price,Square.Meters,Guests.Included,Extra.People,Review.Scores.Rating,Latitude,Longitude,neighb_id),"
   ]
  },
  {
   "cell_type": "markdown",
   "metadata": {},
   "source": [
    "Vamos a crear dos grupos, uno test y otro train.\n",
    "\n",
    "Tratamos de predecir los metros cuadrados en función del resto de columnas del dataframe."
   ]
  },
  {
   "cell_type": "code",
   "execution_count": 37,
   "metadata": {
    "scrolled": false
   },
   "outputs": [],
   "source": [
    "#options(repr.plot.height=8,repr.plot.width=8,repr.plot.res = 300)\n",
    "#suppressWarnings(library(GGally))\n",
    "\n",
    "#ggpairs(df_madrid[,c('Accommodates','Bathrooms','Bedrooms','Beds','Price','Square.Meters','Guests.Included','Extra.People','Review.Scores.Rating','Latitude','Longitude','neighb_id')], \n",
    " #      lower = list(continuous = wrap(\"points\", alpha=0.3, size=0.1, color='blue')))+\n",
    " #    theme(axis.text.x = element_text(angle = 45, hjust = 1))"
   ]
  },
  {
   "cell_type": "code",
   "execution_count": 38,
   "metadata": {
    "scrolled": false
   },
   "outputs": [],
   "source": [
    "#ggpairs(df_madrid[,c('Accommodates','Bathrooms','Bedrooms','Beds','Price','Square.Meters','Guests.Included','neighb_id')], \n",
    " #      lower = list(continuous = wrap(\"points\", alpha=0.3, size=0.1, color='blue')))+\n",
    "  #   theme(axis.text.x = element_text(angle = 45, hjust = 1))"
   ]
  },
  {
   "cell_type": "code",
   "execution_count": 39,
   "metadata": {},
   "outputs": [],
   "source": [
    "idx <- sample(1:nrow(df_madrid), nrow(df_madrid)*0.7)\n",
    "df_madrid.train <- df_madrid[idx,]\n",
    "df_madrid.test <- df_madrid[-idx,]"
   ]
  },
  {
   "cell_type": "code",
   "execution_count": 40,
   "metadata": {},
   "outputs": [
    {
     "data": {
      "text/html": [
       "<ol class=list-inline>\n",
       "\t<li>3430</li>\n",
       "\t<li>14</li>\n",
       "</ol>\n"
      ],
      "text/latex": [
       "\\begin{enumerate*}\n",
       "\\item 3430\n",
       "\\item 14\n",
       "\\end{enumerate*}\n"
      ],
      "text/markdown": [
       "1. 3430\n",
       "2. 14\n",
       "\n",
       "\n"
      ],
      "text/plain": [
       "[1] 3430   14"
      ]
     },
     "metadata": {},
     "output_type": "display_data"
    },
    {
     "data": {
      "text/html": [
       "<ol class=list-inline>\n",
       "\t<li>1471</li>\n",
       "\t<li>14</li>\n",
       "</ol>\n"
      ],
      "text/latex": [
       "\\begin{enumerate*}\n",
       "\\item 1471\n",
       "\\item 14\n",
       "\\end{enumerate*}\n"
      ],
      "text/markdown": [
       "1. 1471\n",
       "2. 14\n",
       "\n",
       "\n"
      ],
      "text/plain": [
       "[1] 1471   14"
      ]
     },
     "metadata": {},
     "output_type": "display_data"
    }
   ],
   "source": [
    "dim(df_madrid.train)\n",
    "dim(df_madrid.test)\n",
    "#summary(df_madrid.train)\n",
    "#summary(df_madrid.test)"
   ]
  },
  {
   "cell_type": "code",
   "execution_count": 115,
   "metadata": {},
   "outputs": [
    {
     "data": {
      "text/plain": [
       "\n",
       "Call:\n",
       "lm(formula = Square.Meters ~ Accommodates + Bedrooms + neighb_id + \n",
       "    Price, data = df_madrid.train)\n",
       "\n",
       "Residuals:\n",
       "     Min       1Q   Median       3Q      Max \n",
       "-105.975  -11.855   -1.203   12.047  141.511 \n",
       "\n",
       "Coefficients:\n",
       "              Estimate Std. Error t value Pr(>|t|)    \n",
       "(Intercept)    3.27052    6.05268   0.540 0.589962    \n",
       "Accommodates   7.45738    1.80898   4.122 6.94e-05 ***\n",
       "Bedrooms      13.54015    3.97943   3.403 0.000908 ***\n",
       "neighb_id2    21.33646   12.15902   1.755 0.081849 .  \n",
       "neighb_id3   115.97068   17.08482   6.788 4.61e-10 ***\n",
       "Price          0.08838    0.03639   2.429 0.016628 *  \n",
       "---\n",
       "Signif. codes:  0 '***' 0.001 '**' 0.01 '*' 0.05 '.' 0.1 ' ' 1\n",
       "\n",
       "Residual standard error: 27.75 on 120 degrees of freedom\n",
       "  (3304 observations deleted due to missingness)\n",
       "Multiple R-squared:  0.7074,\tAdjusted R-squared:  0.6952 \n",
       "F-statistic: 58.01 on 5 and 120 DF,  p-value: < 2.2e-16\n"
      ]
     },
     "metadata": {},
     "output_type": "display_data"
    },
    {
     "data": {
      "text/plain": [
       "     Min.   1st Qu.    Median      Mean   3rd Qu.      Max. \n",
       "  0.08838   4.31724  10.49876  26.94393  19.38738 115.97068 "
      ]
     },
     "metadata": {},
     "output_type": "display_data"
    }
   ],
   "source": [
    "#Tras varias pruebas con todo tipo de variantes (logaritmo,^2, más y menos variables,stepAIC, boxcox,cooks distance para quitar outliers,glmnet como herramienta previa para seleccionar variables, con Lasso..)  el modelo que finalmente selecciono es: \n",
    "model6 <- lm(df_madrid.train, formula=Square.Meters~ Accommodates+Bedrooms+neighb_id+Price)\n",
    "summary(model6)\n",
    "#model1 <- lm(df_madrid.train, formula=Square.Meters~.-Neighbourhood-Square.Feet)\n",
    "#summary(model1)"
   ]
  },
  {
   "cell_type": "code",
   "execution_count": 80,
   "metadata": {},
   "outputs": [],
   "source": [
    "# Encuentra el modelo con menor AIC pero no mejora la distribución de los errores...finalmente no lo sigo\n",
    "#library(MASS)\n",
    "#model_optim_aic<-stepAIC(model1, direction=\"both\", trace=0)\n",
    "#summary(model_optim_aic)\n",
    "\n",
    "#prueba glmnet ,como herramienta previa para seleccionar variables, con lasso\n",
    "#library(glmnet)\n",
    "#df_madrid.train_na<-na.omit(df_madrid.train)\n",
    "#cvfit<-cv.glmnet(as.matrix(df_madrid.train_na[,c('Accommodates','Bathrooms','Bedrooms','Beds','Price','Guests.Included','Extra.People','Review.Scores.Rating','Latitude','Longitude')]),as.matrix(df_madrid.train_na[,'Square.Meters']),nfolds=10,alpha=1,standardize=F)\n",
    "#cvfit<-cv.glmnet(as.matrix(df_madrid.train_na[,c('Accommodates','Bathrooms','Bedrooms','Beds','Price')]),as.matrix(df_madrid.train_na[,'Square.Meters']),nfolds=5,alpha=1,standardize=F)\n",
    "#cvfit<-cv.glmnet(as.matrix(df_madrid.train_na[,c('Accommodates','Bathrooms','Bedrooms','Beds','Price','Guests.Included','Extra.People','Review.Scores.Rating')]),as.matrix(df_madrid.train_na[,'Square.Meters']),nfolds=5,lambda=2,alpha=1,standardize=F)\n",
    "#coef(cvfit, s = cvfit$lambda.1se)\n",
    "#coef(cvfit, s = cvfit$lambda.min)\n",
    "#cvfit$glmnet.fit$dev.ratio[which(cvfit$glmnet.fit$lambda == cvfit$lambda.min)] \n",
    "#reg_df_madrid_train <- predict(cvfit,df_madrid.train,s=cvfit$lambda.min)\n",
    "#caret::postResample(reg_df_madrid_train,df_madrid.train$Square.Meters)\n",
    "#plot(cvfit)\n",
    "#fit<-glmnet(as.matrix(df_madrid.train_na[,c('Accommodates','Bathrooms','Bedrooms','Beds','Price','Guests.Included','Extra.People','Review.Scores.Rating')]),as.matrix(df_madrid.train_na[,'Square.Meters']),alpha=1, standardize=F)\n",
    "#par(mfrow=c(1,3))\n",
    "#plot(fit,label=TRUE)\n",
    "#grid()\n",
    "#plot(fit,label=TRUE,xvar=\"lambda\")\n",
    "#grid()\n",
    "#plot(fit,label=TRUE,xvar=\"dev\")\n",
    "#grid()\n",
    "\n",
    "#options(repr.plot.height=4,repr.plot.width=6,repr.plot.res = 200)\n",
    "#plot(cooks.distance(model))\n",
    "#df_madrid.train<-na.omit(df_madrid.train)\n",
    "#df_madrid.train_clean<-df_madrid.train[cooks.distance(model)<2,]\n",
    "#model_clean <- lm(df_madrid.train_clean, formula=Square.Meters~.-Extra.People-Longitude-Latitude-Bedrooms-Guests.Included-Price-Beds-pred)\n",
    "#summary(model_clean)\n",
    "#df_madrid.test$pred<-predict(model_clean,df_madrid.test)\n",
    "#caret::postResample(df_madrid.test$pred, df_madrid.test$Square.Meters)\n"
   ]
  },
  {
   "cell_type": "code",
   "execution_count": 82,
   "metadata": {},
   "outputs": [],
   "source": [
    "#model <- lm(df_madrid.train, formula=Square.Meters~ I(log(Accommodates))+Bedrooms+neighb_id+Price)\n",
    "#summary(model)\n",
    "#model3 <- lm(df_madrid.train, formula=Square.Meters~ Bathrooms+Bedrooms+ neighb_id+I(log(Price)))\n",
    "#summary(model3)\n",
    "#model4 <- lm(df_madrid.train, formula=Square.Meters~ Accommodates+Bathrooms+Bedrooms+ Guests.Included+ neighb_id+I(log(Price)))\n",
    "#summary(model4)\n",
    "#model5 <- lm(df_madrid.train, formula=Square.Meters~ I(log(Accommodates))+Bathrooms+  neighb_id+I(log(Price)))\n",
    "#summary(model5)\n",
    "#model1 <- lm(formula=Square.Meters~ Accommodates+Bathrooms+Bedrooms,data = df_madrid.train)\n",
    "#summary(model1)\n",
    "#model2 <- lm(formula=Square.Meters~ Bathrooms+Bedrooms+Beds,data = na.omit(df_madrid.train))\n",
    "#summary(model2)"
   ]
  },
  {
   "cell_type": "code",
   "execution_count": 83,
   "metadata": {},
   "outputs": [],
   "source": [
    "#ggplot(df_madrid.train,aes(x=Square.Meters,y=Accommodates+Bedrooms+Price))+geom_point()+geom_smooth(method='lm')\n"
   ]
  },
  {
   "cell_type": "code",
   "execution_count": 64,
   "metadata": {},
   "outputs": [
    {
     "data": {
      "text/html": [
       "27.0853251940704"
      ],
      "text/latex": [
       "27.0853251940704"
      ],
      "text/markdown": [
       "27.0853251940704"
      ],
      "text/plain": [
       "[1] 27.08533"
      ]
     },
     "metadata": {},
     "output_type": "display_data"
    },
    {
     "data": {
      "text/html": [
       "<dl class=dl-horizontal>\n",
       "\t<dt>RMSE</dt>\n",
       "\t\t<dd>&lt;NA&gt;</dd>\n",
       "\t<dt>Rsquared</dt>\n",
       "\t\t<dd>0.707352228189578</dd>\n",
       "\t<dt>MAE</dt>\n",
       "\t\t<dd>&lt;NA&gt;</dd>\n",
       "</dl>\n"
      ],
      "text/latex": [
       "\\begin{description*}\n",
       "\\item[RMSE] <NA>\n",
       "\\item[Rsquared] 0.707352228189578\n",
       "\\item[MAE] <NA>\n",
       "\\end{description*}\n"
      ],
      "text/markdown": [
       "RMSE\n",
       ":   &lt;NA&gt;Rsquared\n",
       ":   0.707352228189578MAE\n",
       ":   &lt;NA&gt;\n",
       "\n"
      ],
      "text/plain": [
       "     RMSE  Rsquared       MAE \n",
       "       NA 0.7073522        NA "
      ]
     },
     "metadata": {},
     "output_type": "display_data"
    }
   ],
   "source": [
    "df_madrid.train$pred<-predict(model6,df_madrid.train)\n",
    "sqrt(mean((df_madrid.train$Square.Meters-df_madrid.train$pred)^2,na.rm=T)) \n",
    "caret::postResample(pred=df_madrid.train$pred, obs=df_madrid.train$Square.Meters)"
   ]
  },
  {
   "cell_type": "code",
   "execution_count": 66,
   "metadata": {
    "scrolled": true
   },
   "outputs": [
    {
     "data": {
      "text/html": [
       "20.3684096299055"
      ],
      "text/latex": [
       "20.3684096299055"
      ],
      "text/markdown": [
       "20.3684096299055"
      ],
      "text/plain": [
       "[1] 20.36841"
      ]
     },
     "metadata": {},
     "output_type": "display_data"
    },
    {
     "data": {
      "text/html": [
       "<dl class=dl-horizontal>\n",
       "\t<dt>RMSE</dt>\n",
       "\t\t<dd>&lt;NA&gt;</dd>\n",
       "\t<dt>Rsquared</dt>\n",
       "\t\t<dd>0.696180264822712</dd>\n",
       "\t<dt>MAE</dt>\n",
       "\t\t<dd>&lt;NA&gt;</dd>\n",
       "</dl>\n"
      ],
      "text/latex": [
       "\\begin{description*}\n",
       "\\item[RMSE] <NA>\n",
       "\\item[Rsquared] 0.696180264822712\n",
       "\\item[MAE] <NA>\n",
       "\\end{description*}\n"
      ],
      "text/markdown": [
       "RMSE\n",
       ":   &lt;NA&gt;Rsquared\n",
       ":   0.696180264822712MAE\n",
       ":   &lt;NA&gt;\n",
       "\n"
      ],
      "text/plain": [
       "     RMSE  Rsquared       MAE \n",
       "       NA 0.6961803        NA "
      ]
     },
     "metadata": {},
     "output_type": "display_data"
    }
   ],
   "source": [
    "df_madrid.test$pred<-predict(model6,df_madrid.test)\n",
    "sqrt(mean((df_madrid.test$Square.Meters-df_madrid.test$pred)^2,na.rm=T)) \n",
    "caret::postResample(df_madrid.test$pred, df_madrid.test$Square.Meters)"
   ]
  },
  {
   "cell_type": "markdown",
   "metadata": {},
   "source": [
    "Mirad el histograma de los residuos sobre el conjunto de test para evaluar la calidad de vuestro modelo"
   ]
  },
  {
   "cell_type": "code",
   "execution_count": 67,
   "metadata": {
    "scrolled": false
   },
   "outputs": [
    {
     "data": {
      "image/png": "[encoded data removed]",
      "text/plain": [
       "Plot with title \"Histogram of df_madrid.test$Square.Meters - df_madrid.test$pred\""
      ]
     },
     "metadata": {},
     "output_type": "display_data"
    },
    {
     "data": {
      "image/png": "[encoded data removed]",
      "text/plain": [
       "plot without title"
      ]
     },
     "metadata": {},
     "output_type": "display_data"
    },
    {
     "data": {
      "image/png": "[encoded data removed]",
      "text/plain": [
       "Plot with title \"Normal Q-Q Plot\""
      ]
     },
     "metadata": {},
     "output_type": "display_data"
    }
   ],
   "source": [
    "options(repr.plot.height=4,repr.plot.width=6,repr.plot.res = 300)\n",
    "hist(df_madrid.test$Square.Meters-df_madrid.test$pred)\n",
    "plot(df_madrid.test$Square.Meters,df_madrid.test$Square.Meters-df_madrid.test$pred)\n",
    "qqnorm(df_madrid.test$Square.Meters-df_madrid.test$pred)\n",
    "qqline(df_madrid.test$Square.Meters-df_madrid.test$pred,col='orange',lwd=2)"
   ]
  },
  {
   "cell_type": "markdown",
   "metadata": {},
   "source": [
    "Si tuvieramos un anuncio de un apartamento para 6 personas (Accommodates) con un precio de 80€/noche y 3 habitaciones en el barrio de Sol.\n",
    "¿Cuantos metros cuadrados tendría?\n",
    "¿Como varía sus metros cuadrados con cada habitación adicional?"
   ]
  },
  {
   "cell_type": "code",
   "execution_count": 163,
   "metadata": {},
   "outputs": [
    {
     "data": {
      "text/html": [
       "<table>\n",
       "<thead><tr><th scope=col>Accommodates</th><th scope=col>Bedrooms</th><th scope=col>Price</th><th scope=col>neighb_id</th></tr></thead>\n",
       "<tbody>\n",
       "\t<tr><td>6 </td><td>3 </td><td>80</td><td>1 </td></tr>\n",
       "</tbody>\n",
       "</table>\n"
      ],
      "text/latex": [
       "\\begin{tabular}{r|llll}\n",
       " Accommodates & Bedrooms & Price & neighb\\_id\\\\\n",
       "\\hline\n",
       "\t 6  & 3  & 80 & 1 \\\\\n",
       "\\end{tabular}\n"
      ],
      "text/markdown": [
       "\n",
       "| Accommodates | Bedrooms | Price | neighb_id |\n",
       "|---|---|---|---|\n",
       "| 6  | 3  | 80 | 1  |\n",
       "\n"
      ],
      "text/plain": [
       "  Accommodates Bedrooms Price neighb_id\n",
       "1 6            3        80    1        "
      ]
     },
     "metadata": {},
     "output_type": "display_data"
    },
    {
     "data": {
      "text/html": [
       "<strong>1:</strong> 95.7055830852854"
      ],
      "text/latex": [
       "\\textbf{1:} 95.7055830852854"
      ],
      "text/markdown": [
       "**1:** 95.7055830852854"
      ],
      "text/plain": [
       "       1 \n",
       "95.70558 "
      ]
     },
     "metadata": {},
     "output_type": "display_data"
    },
    {
     "data": {
      "text/html": [
       "<dl class=dl-horizontal>\n",
       "\t<dt>(Intercept)</dt>\n",
       "\t\t<dd>3.27052186693484</dd>\n",
       "\t<dt>Accommodates</dt>\n",
       "\t\t<dd>7.45738157056297</dd>\n",
       "\t<dt>Bedrooms</dt>\n",
       "\t\t<dd>13.5401481720514</dd>\n",
       "\t<dt>neighb_id2</dt>\n",
       "\t\t<dd>21.3364614430673</dd>\n",
       "\t<dt>neighb_id3</dt>\n",
       "\t\t<dd>115.970676355582</dd>\n",
       "\t<dt>Price</dt>\n",
       "\t\t<dd>0.0883790909852314</dd>\n",
       "</dl>\n"
      ],
      "text/latex": [
       "\\begin{description*}\n",
       "\\item[(Intercept)] 3.27052186693484\n",
       "\\item[Accommodates] 7.45738157056297\n",
       "\\item[Bedrooms] 13.5401481720514\n",
       "\\item[neighb\\textbackslash{}\\_id2] 21.3364614430673\n",
       "\\item[neighb\\textbackslash{}\\_id3] 115.970676355582\n",
       "\\item[Price] 0.0883790909852314\n",
       "\\end{description*}\n"
      ],
      "text/markdown": [
       "(Intercept)\n",
       ":   3.27052186693484Accommodates\n",
       ":   7.45738157056297Bedrooms\n",
       ":   13.5401481720514neighb_id2\n",
       ":   21.3364614430673neighb_id3\n",
       ":   115.970676355582Price\n",
       ":   0.0883790909852314\n",
       "\n"
      ],
      "text/plain": [
       " (Intercept) Accommodates     Bedrooms   neighb_id2   neighb_id3        Price \n",
       "  3.27052187   7.45738157  13.54014817  21.33646144 115.97067636   0.08837909 "
      ]
     },
     "metadata": {},
     "output_type": "display_data"
    },
    {
     "data": {
      "text/html": [
       "<span style=white-space:pre-wrap>'los metros cuadrados esperados de un apartamento para 6 personas (Accommodates) con un precio de 80\\200/noche y 3 habitaciones en el barrio de Sol son:  95.7055830852854'</span>"
      ],
      "text/latex": [
       "'los metros cuadrados esperados de un apartamento para 6 personas (Accommodates) con un precio de 80\\textbackslash{}200/noche y 3 habitaciones en el barrio de Sol son:  95.7055830852854'"
      ],
      "text/markdown": [
       "<span style=white-space:pre-wrap>'los metros cuadrados esperados de un apartamento para 6 personas (Accommodates) con un precio de 80\\200/noche y 3 habitaciones en el barrio de Sol son:  95.7055830852854'</span>"
      ],
      "text/plain": [
       "[1] \"los metros cuadrados esperados de un apartamento para 6 personas (Accommodates) con un precio de 80\\200/noche y 3 habitaciones en el barrio de Sol son:  95.7055830852854\""
      ]
     },
     "metadata": {},
     "output_type": "display_data"
    }
   ],
   "source": [
    "#summary(df_madrid.test)\n",
    "#opción predict()\n",
    "pred_sol<-data.frame(Accommodates=6,Bedrooms=3,Price=80,neighb_id='1')\n",
    "pred_sol\n",
    "pred_Square.Meters<-predict(model6,pred_sol)\n",
    "pred_Square.Meters\n",
    "\n",
    "#Compruebo con la función multiplicando según los coeficientes del modelo \n",
    "model6$coefficients\n",
    "paste('los metros cuadrados esperados de un apartamento para 6 personas (Accommodates) con un precio de 80 euros/noche y 3 habitaciones en el barrio de Sol son: ', model6$coefficients[[1]]+ model6$coefficients[[2]]*6+ model6$coefficients[[3]]*3+model6$coefficients[[6]]*80)\n",
    "\n",
    "paste('para calcular cómo varían los metros cuadrados por cada habitación adicional, teniendo en cuenta que el resto de variables permanecen igual, habría que multiplicar el coeficiente de Bedrooms',model6$coefficients[[3]],'por el número de habitaciones nuevo')\n",
    "\n"
   ]
  },
  {
   "cell_type": "markdown",
   "metadata": {},
   "source": [
    "Rellenar los Square.Meters con valor NA con el estimado con el modelo anterior."
   ]
  },
  {
   "cell_type": "code",
   "execution_count": 168,
   "metadata": {},
   "outputs": [
    {
     "data": {
      "text/html": [
       "<table>\n",
       "<thead><tr><th scope=col>Neighbourhood</th><th scope=col>Accommodates</th><th scope=col>Bathrooms</th><th scope=col>Bedrooms</th><th scope=col>Beds</th><th scope=col>Price</th><th scope=col>Square.Meters</th><th scope=col>Guests.Included</th><th scope=col>Extra.People</th><th scope=col>Review.Scores.Rating</th><th scope=col>Latitude</th><th scope=col>Longitude</th><th scope=col>Square.Feet</th><th scope=col>neighb_id</th><th scope=col>pred</th></tr></thead>\n",
       "<tbody>\n",
       "\t<tr><td>Embajadores</td><td>5          </td><td>1          </td><td>2          </td><td>3          </td><td> 85        </td><td> 75.14995  </td><td>3          </td><td>15         </td><td>93         </td><td>40.41289   </td><td>-3.700650  </td><td>NA         </td><td>1          </td><td> 75.14995  </td></tr>\n",
       "\t<tr><td>Lista      </td><td>6          </td><td>1          </td><td>3          </td><td>3          </td><td>120        </td><td>120.57721  </td><td>1          </td><td> 0         </td><td>93         </td><td>40.43383   </td><td>-3.675312  </td><td>NA         </td><td>2          </td><td>120.57721  </td></tr>\n",
       "\t<tr><td>La Latina  </td><td>6          </td><td>1          </td><td>2          </td><td>3          </td><td> 85        </td><td> 82.60733  </td><td>4          </td><td>10         </td><td>80         </td><td>40.40776   </td><td>-3.711027  </td><td>NA         </td><td>1          </td><td> 82.60733  </td></tr>\n",
       "\t<tr><td>Sol        </td><td>3          </td><td>1          </td><td>2          </td><td>3          </td><td>105        </td><td> 62.00277  </td><td>2          </td><td> 0         </td><td>96         </td><td>40.41566   </td><td>-3.707624  </td><td>NA         </td><td>1          </td><td> 62.00277  </td></tr>\n",
       "\t<tr><td>Goya       </td><td>5          </td><td>1          </td><td>2          </td><td>2          </td><td>105        </td><td> 76.91753  </td><td>4          </td><td>30         </td><td>93         </td><td>40.42408   </td><td>-3.675718  </td><td>NA         </td><td>1          </td><td> 76.91753  </td></tr>\n",
       "\t<tr><td>Palacio    </td><td>5          </td><td>1          </td><td>2          </td><td>2          </td><td> 70        </td><td> 73.82426  </td><td>2          </td><td>15         </td><td>96         </td><td>40.41786   </td><td>-3.709784  </td><td>NA         </td><td>1          </td><td> 73.82426  </td></tr>\n",
       "</tbody>\n",
       "</table>\n"
      ],
      "text/latex": [
       "\\begin{tabular}{r|lllllllllllllll}\n",
       " Neighbourhood & Accommodates & Bathrooms & Bedrooms & Beds & Price & Square.Meters & Guests.Included & Extra.People & Review.Scores.Rating & Latitude & Longitude & Square.Feet & neighb\\_id & pred\\\\\n",
       "\\hline\n",
       "\t Embajadores & 5           & 1           & 2           & 3           &  85         &  75.14995   & 3           & 15          & 93          & 40.41289    & -3.700650   & NA          & 1           &  75.14995  \\\\\n",
       "\t Lista       & 6           & 1           & 3           & 3           & 120         & 120.57721   & 1           &  0          & 93          & 40.43383    & -3.675312   & NA          & 2           & 120.57721  \\\\\n",
       "\t La Latina   & 6           & 1           & 2           & 3           &  85         &  82.60733   & 4           & 10          & 80          & 40.40776    & -3.711027   & NA          & 1           &  82.60733  \\\\\n",
       "\t Sol         & 3           & 1           & 2           & 3           & 105         &  62.00277   & 2           &  0          & 96          & 40.41566    & -3.707624   & NA          & 1           &  62.00277  \\\\\n",
       "\t Goya        & 5           & 1           & 2           & 2           & 105         &  76.91753   & 4           & 30          & 93          & 40.42408    & -3.675718   & NA          & 1           &  76.91753  \\\\\n",
       "\t Palacio     & 5           & 1           & 2           & 2           &  70         &  73.82426   & 2           & 15          & 96          & 40.41786    & -3.709784   & NA          & 1           &  73.82426  \\\\\n",
       "\\end{tabular}\n"
      ],
      "text/markdown": [
       "\n",
       "| Neighbourhood | Accommodates | Bathrooms | Bedrooms | Beds | Price | Square.Meters | Guests.Included | Extra.People | Review.Scores.Rating | Latitude | Longitude | Square.Feet | neighb_id | pred |\n",
       "|---|---|---|---|---|---|---|---|---|---|---|---|---|---|---|\n",
       "| Embajadores | 5           | 1           | 2           | 3           |  85         |  75.14995   | 3           | 15          | 93          | 40.41289    | -3.700650   | NA          | 1           |  75.14995   |\n",
       "| Lista       | 6           | 1           | 3           | 3           | 120         | 120.57721   | 1           |  0          | 93          | 40.43383    | -3.675312   | NA          | 2           | 120.57721   |\n",
       "| La Latina   | 6           | 1           | 2           | 3           |  85         |  82.60733   | 4           | 10          | 80          | 40.40776    | -3.711027   | NA          | 1           |  82.60733   |\n",
       "| Sol         | 3           | 1           | 2           | 3           | 105         |  62.00277   | 2           |  0          | 96          | 40.41566    | -3.707624   | NA          | 1           |  62.00277   |\n",
       "| Goya        | 5           | 1           | 2           | 2           | 105         |  76.91753   | 4           | 30          | 93          | 40.42408    | -3.675718   | NA          | 1           |  76.91753   |\n",
       "| Palacio     | 5           | 1           | 2           | 2           |  70         |  73.82426   | 2           | 15          | 96          | 40.41786    | -3.709784   | NA          | 1           |  73.82426   |\n",
       "\n"
      ],
      "text/plain": [
       "  Neighbourhood Accommodates Bathrooms Bedrooms Beds Price Square.Meters\n",
       "1 Embajadores   5            1         2        3     85    75.14995    \n",
       "2 Lista         6            1         3        3    120   120.57721    \n",
       "3 La Latina     6            1         2        3     85    82.60733    \n",
       "4 Sol           3            1         2        3    105    62.00277    \n",
       "5 Goya          5            1         2        2    105    76.91753    \n",
       "6 Palacio       5            1         2        2     70    73.82426    \n",
       "  Guests.Included Extra.People Review.Scores.Rating Latitude Longitude\n",
       "1 3               15           93                   40.41289 -3.700650\n",
       "2 1                0           93                   40.43383 -3.675312\n",
       "3 4               10           80                   40.40776 -3.711027\n",
       "4 2                0           96                   40.41566 -3.707624\n",
       "5 4               30           93                   40.42408 -3.675718\n",
       "6 2               15           96                   40.41786 -3.709784\n",
       "  Square.Feet neighb_id pred     \n",
       "1 NA          1          75.14995\n",
       "2 NA          2         120.57721\n",
       "3 NA          1          82.60733\n",
       "4 NA          1          62.00277\n",
       "5 NA          1          76.91753\n",
       "6 NA          1          73.82426"
      ]
     },
     "metadata": {},
     "output_type": "display_data"
    }
   ],
   "source": [
    "df_madrid.train %>% \n",
    "    mutate(Square.Meters = coalesce(Square.Meters,pred))->df_madrid.train1\n",
    "df_madrid.test %>% \n",
    "    mutate(Square.Meters = coalesce(Square.Meters,pred))->df_madrid.test1\n",
    "df_madrid.tot<-rbind(df_madrid.train1,df_madrid.test1)\n",
    "\n",
    "\n",
    "head(df_madrid.tot)"
   ]
  },
  {
   "cell_type": "markdown",
   "metadata": {},
   "source": [
    "Usar PCA para encontrar el apartamento más cercano a uno dado.\n",
    "\n",
    "Este algoritmo nos ayudaría a dado un apartamento que el algoritmo nos devolvería los 5 apartamentos más similares.\n",
    "\n",
    "\n",
    "Crearemos una función tal que le pasemos un apartamento con los siguientes datos:\n",
    "* Accommodates\t\n",
    "* Bathrooms\t\n",
    "* Bedrooms\t\n",
    "* Beds\t\n",
    "* Price\t\n",
    "* Guests.Included\t\n",
    "* Extra.People\t\n",
    "* Review.Scores.Rating\t\n",
    "* Latitude\t\n",
    "* Longitude\t\n",
    "* Square.Meters\n",
    "\n",
    "y nos devuelva los 5 más similares de:"
   ]
  },
  {
   "cell_type": "code",
   "execution_count": 314,
   "metadata": {},
   "outputs": [
    {
     "data": {
      "text/html": [
       "<table>\n",
       "<thead><tr><th scope=col>Accommodates</th><th scope=col>Bathrooms</th><th scope=col>Bedrooms</th><th scope=col>Beds</th><th scope=col>Price</th><th scope=col>Guests.Included</th><th scope=col>Extra.People</th><th scope=col>Review.Scores.Rating</th><th scope=col>Latitude</th><th scope=col>Longitude</th><th scope=col>Square.Meters</th></tr></thead>\n",
       "<tbody>\n",
       "\t<tr><td>2        </td><td>1        </td><td>1        </td><td>1        </td><td>76       </td><td>2        </td><td>11       </td><td>68       </td><td>40.42115 </td><td>-3.698723</td><td>38.44224 </td></tr>\n",
       "</tbody>\n",
       "</table>\n"
      ],
      "text/latex": [
       "\\begin{tabular}{r|lllllllllll}\n",
       " Accommodates & Bathrooms & Bedrooms & Beds & Price & Guests.Included & Extra.People & Review.Scores.Rating & Latitude & Longitude & Square.Meters\\\\\n",
       "\\hline\n",
       "\t 2         & 1         & 1         & 1         & 76        & 2         & 11        & 68        & 40.42115  & -3.698723 & 38.44224 \\\\\n",
       "\\end{tabular}\n"
      ],
      "text/markdown": [
       "\n",
       "| Accommodates | Bathrooms | Bedrooms | Beds | Price | Guests.Included | Extra.People | Review.Scores.Rating | Latitude | Longitude | Square.Meters |\n",
       "|---|---|---|---|---|---|---|---|---|---|---|\n",
       "| 2         | 1         | 1         | 1         | 76        | 2         | 11        | 68        | 40.42115  | -3.698723 | 38.44224  |\n",
       "\n"
      ],
      "text/plain": [
       "  Accommodates Bathrooms Bedrooms Beds Price Guests.Included Extra.People\n",
       "1 2            1         1        1    76    2               11          \n",
       "  Review.Scores.Rating Latitude Longitude Square.Meters\n",
       "1 68                   40.42115 -3.698723 38.44224     "
      ]
     },
     "metadata": {},
     "output_type": "display_data"
    }
   ],
   "source": [
    "#selecciono un apartamento\n",
    "#set.seed(785)\n",
    "df_apartment<-df_madrid.tot[sample(1:nrow(df_madrid.tot),1),c('Accommodates','Bathrooms', 'Bedrooms', 'Beds', 'Price', 'Guests.Included', 'Extra.People', 'Review.Scores.Rating', 'Latitude', 'Longitude', 'Square.Meters')]\n",
    "df_apartment                     \n",
    "                         "
   ]
  },
  {
   "cell_type": "code",
   "execution_count": 315,
   "metadata": {},
   "outputs": [
    {
     "data": {
      "text/plain": [
       "Importance of components:\n",
       "                          PC1    PC2     PC3     PC4     PC5    PC6     PC7\n",
       "Standard deviation     2.1604 1.2210 1.01702 0.95584 0.82682 0.7807 0.73445\n",
       "Proportion of Variance 0.4243 0.1355 0.09403 0.08306 0.06215 0.0554 0.04904\n",
       "Cumulative Proportion  0.4243 0.5598 0.65387 0.73693 0.79908 0.8545 0.90352\n",
       "                           PC8     PC9    PC10    PC11\n",
       "Standard deviation     0.68554 0.52222 0.44691 0.34477\n",
       "Proportion of Variance 0.04272 0.02479 0.01816 0.01081\n",
       "Cumulative Proportion  0.94624 0.97104 0.98919 1.00000"
      ]
     },
     "metadata": {},
     "output_type": "display_data"
    },
    {
     "data": {
      "image/png": "[encoded data removed]",
      "text/plain": [
       "Plot with title \"Autovalores\""
      ]
     },
     "metadata": {},
     "output_type": "display_data"
    }
   ],
   "source": [
    "#calculo el pca para el dataset completo\n",
    "pc_df_madrid<-prcomp(na.omit(df_madrid.tot) %>% ungroup() %>% dplyr:: select(-c(Neighbourhood,Square.Feet,neighb_id,pred)),center = TRUE, scale. = TRUE)\n",
    "#evaluo los autovalores más significativos \n",
    "plot(cumsum(pc_df_madrid$sdev^2/sum(pc_df_madrid$sdev^2)),main=\"Autovalores\")\n",
    "grid()\n",
    "summary(pc_df_madrid)\n",
    "#los 7 primeros PC me dan el 90% de la varianza"
   ]
  },
  {
   "cell_type": "code",
   "execution_count": 316,
   "metadata": {
    "scrolled": false
   },
   "outputs": [
    {
     "data": {
      "text/html": [
       "<table>\n",
       "<thead><tr><th scope=col>PC1</th><th scope=col>PC2</th><th scope=col>PC3</th><th scope=col>PC4</th><th scope=col>PC5</th><th scope=col>PC6</th><th scope=col>PC7</th><th scope=col>PC8</th><th scope=col>PC9</th><th scope=col>PC10</th><th scope=col>PC11</th></tr></thead>\n",
       "<tbody>\n",
       "\t<tr><td>-1.560643 </td><td>0.7695955 </td><td>2.316172  </td><td>-0.3088429</td><td>-0.3456162</td><td>0.2982362 </td><td>1.004131  </td><td>0.01667111</td><td>0.2191138 </td><td>-0.143698 </td><td>0.5226008 </td></tr>\n",
       "</tbody>\n",
       "</table>\n"
      ],
      "text/latex": [
       "\\begin{tabular}{lllllllllll}\n",
       " PC1 & PC2 & PC3 & PC4 & PC5 & PC6 & PC7 & PC8 & PC9 & PC10 & PC11\\\\\n",
       "\\hline\n",
       "\t -1.560643  & 0.7695955  & 2.316172   & -0.3088429 & -0.3456162 & 0.2982362  & 1.004131   & 0.01667111 & 0.2191138  & -0.143698  & 0.5226008 \\\\\n",
       "\\end{tabular}\n"
      ],
      "text/markdown": [
       "\n",
       "| PC1 | PC2 | PC3 | PC4 | PC5 | PC6 | PC7 | PC8 | PC9 | PC10 | PC11 |\n",
       "|---|---|---|---|---|---|---|---|---|---|---|\n",
       "| -1.560643  | 0.7695955  | 2.316172   | -0.3088429 | -0.3456162 | 0.2982362  | 1.004131   | 0.01667111 | 0.2191138  | -0.143698  | 0.5226008  |\n",
       "\n"
      ],
      "text/plain": [
       "     PC1       PC2       PC3      PC4        PC5        PC6       PC7     \n",
       "[1,] -1.560643 0.7695955 2.316172 -0.3088429 -0.3456162 0.2982362 1.004131\n",
       "     PC8        PC9       PC10      PC11     \n",
       "[1,] 0.01667111 0.2191138 -0.143698 0.5226008"
      ]
     },
     "metadata": {},
     "output_type": "display_data"
    },
    {
     "data": {
      "text/html": [
       "<dl class=dl-horizontal>\n",
       "\t<dt>PC1</dt>\n",
       "\t\t<dd>-1.56064286812327</dd>\n",
       "\t<dt>PC2</dt>\n",
       "\t\t<dd>0.769595501496164</dd>\n",
       "\t<dt>PC3</dt>\n",
       "\t\t<dd>2.31617235671889</dd>\n",
       "\t<dt>PC4</dt>\n",
       "\t\t<dd>-0.308842852987888</dd>\n",
       "\t<dt>PC5</dt>\n",
       "\t\t<dd>-0.345616161438053</dd>\n",
       "\t<dt>PC6</dt>\n",
       "\t\t<dd>0.298236233644469</dd>\n",
       "\t<dt>PC7</dt>\n",
       "\t\t<dd>1.00413096269415</dd>\n",
       "</dl>\n"
      ],
      "text/latex": [
       "\\begin{description*}\n",
       "\\item[PC1] -1.56064286812327\n",
       "\\item[PC2] 0.769595501496164\n",
       "\\item[PC3] 2.31617235671889\n",
       "\\item[PC4] -0.308842852987888\n",
       "\\item[PC5] -0.345616161438053\n",
       "\\item[PC6] 0.298236233644469\n",
       "\\item[PC7] 1.00413096269415\n",
       "\\end{description*}\n"
      ],
      "text/markdown": [
       "PC1\n",
       ":   -1.56064286812327PC2\n",
       ":   0.769595501496164PC3\n",
       ":   2.31617235671889PC4\n",
       ":   -0.308842852987888PC5\n",
       ":   -0.345616161438053PC6\n",
       ":   0.298236233644469PC7\n",
       ":   1.00413096269415\n",
       "\n"
      ],
      "text/plain": [
       "       PC1        PC2        PC3        PC4        PC5        PC6        PC7 \n",
       "-1.5606429  0.7695955  2.3161724 -0.3088429 -0.3456162  0.2982362  1.0041310 "
      ]
     },
     "metadata": {},
     "output_type": "display_data"
    }
   ],
   "source": [
    "#Convierto el dataframe del apartamento a dominio pca. \n",
    "\n",
    "pc_df_apartment<-predict(pc_df_madrid,newdata= df_apartment)\n",
    "pc_df_apartment\n",
    "\n",
    "pc_df_apartment[,1:7]\n",
    "\n",
    "#pca_df_apartment<-predict(pc_df_madrid$x[,1:7],newdata= df_apartment)"
   ]
  },
  {
   "cell_type": "code",
   "execution_count": 317,
   "metadata": {},
   "outputs": [
    {
     "data": {
      "text/html": [
       "'Dist con 7 PC: '"
      ],
      "text/latex": [
       "'Dist con 7 PC: '"
      ],
      "text/markdown": [
       "'Dist con 7 PC: '"
      ],
      "text/plain": [
       "[1] \"Dist con 7 PC: \""
      ]
     },
     "metadata": {},
     "output_type": "display_data"
    },
    {
     "data": {
      "text/html": [
       "<ol class=list-inline>\n",
       "\t<li>1.65250379830947</li>\n",
       "\t<li>1.68179423147153</li>\n",
       "\t<li>2.02974535895937</li>\n",
       "\t<li>2.17282788234448</li>\n",
       "\t<li>2.33844351502985</li>\n",
       "\t<li>2.34917015825411</li>\n",
       "</ol>\n"
      ],
      "text/latex": [
       "\\begin{enumerate*}\n",
       "\\item 1.65250379830947\n",
       "\\item 1.68179423147153\n",
       "\\item 2.02974535895937\n",
       "\\item 2.17282788234448\n",
       "\\item 2.33844351502985\n",
       "\\item 2.34917015825411\n",
       "\\end{enumerate*}\n"
      ],
      "text/markdown": [
       "1. 1.65250379830947\n",
       "2. 1.68179423147153\n",
       "3. 2.02974535895937\n",
       "4. 2.17282788234448\n",
       "5. 2.33844351502985\n",
       "6. 2.34917015825411\n",
       "\n",
       "\n"
      ],
      "text/plain": [
       "[1] 1.652504 1.681794 2.029745 2.172828 2.338444 2.349170"
      ]
     },
     "metadata": {},
     "output_type": "display_data"
    }
   ],
   "source": [
    "#compruebo la distancia euclídea de los primeros 7 componentes del apartamento con los demás. \n",
    "pca_df_apartment<-pc_df_apartment[,1:7]\n",
    "#pca_df_apartment\n",
    "pca_df_apartment<-matrix(pca_df_apartment[1:7],nrow=1)\n",
    "apc<-pc_df_madrid$x[,1:7]\n",
    "\n",
    "dist<- rowSums((pca_df_apartment[rep(1,times= nrow(apc)),]-apc)^2)\n",
    "\n",
    "paste('Dist con 7 PC: ')\n",
    "head(sort(dist),decreasing= F)\n",
    "\n",
    "#dim(pca_df_apartment)\n",
    "#pc_df_madrid\n",
    "#dist1<- rowSums((pc_df_apartment[rep(1,times= nrow(pc_df_madrid$x)),]-pc_df_madrid$x)^2)\n",
    "#paste('Dist con todos los PC')\n",
    "#dist1"
   ]
  },
  {
   "cell_type": "code",
   "execution_count": 318,
   "metadata": {},
   "outputs": [
    {
     "data": {
      "text/html": [
       "87"
      ],
      "text/latex": [
       "87"
      ],
      "text/markdown": [
       "87"
      ],
      "text/plain": [
       "[1] 87"
      ]
     },
     "metadata": {},
     "output_type": "display_data"
    },
    {
     "data": {
      "text/html": [
       "<ol class=list-inline>\n",
       "\t<li>87</li>\n",
       "\t<li>241</li>\n",
       "\t<li>249</li>\n",
       "\t<li>268</li>\n",
       "\t<li>199</li>\n",
       "</ol>\n"
      ],
      "text/latex": [
       "\\begin{enumerate*}\n",
       "\\item 87\n",
       "\\item 241\n",
       "\\item 249\n",
       "\\item 268\n",
       "\\item 199\n",
       "\\end{enumerate*}\n"
      ],
      "text/markdown": [
       "1. 87\n",
       "2. 241\n",
       "3. 249\n",
       "4. 268\n",
       "5. 199\n",
       "\n",
       "\n"
      ],
      "text/plain": [
       "[1]  87 241 249 268 199"
      ]
     },
     "metadata": {},
     "output_type": "display_data"
    }
   ],
   "source": [
    "which.min(dist)\n",
    "#which.min(dist1)\n",
    "head(order(dist,decreasing = F),5)\n",
    "#head(order(dist1,decreasing = F),5)\n",
    "\n"
   ]
  },
  {
   "cell_type": "code",
   "execution_count": 319,
   "metadata": {},
   "outputs": [
    {
     "data": {
      "text/html": [
       "<table>\n",
       "<thead><tr><th scope=col>Neighbourhood</th><th scope=col>Accommodates</th><th scope=col>Bathrooms</th><th scope=col>Bedrooms</th><th scope=col>Beds</th><th scope=col>Price</th><th scope=col>Square.Meters</th><th scope=col>Guests.Included</th><th scope=col>Extra.People</th><th scope=col>Review.Scores.Rating</th><th scope=col>Latitude</th><th scope=col>Longitude</th><th scope=col>Square.Feet</th><th scope=col>neighb_id</th><th scope=col>pred</th></tr></thead>\n",
       "<tbody>\n",
       "\t<tr><td>Cortes   </td><td>2        </td><td>1.0      </td><td>1        </td><td>2        </td><td> 60      </td><td> 35.02443</td><td>2        </td><td> 0       </td><td>92       </td><td>40.41528 </td><td>-3.698587</td><td>377      </td><td>1        </td><td> 37.02818</td></tr>\n",
       "\t<tr><td>La Latina</td><td>2        </td><td>1.0      </td><td>1        </td><td>1        </td><td> 81      </td><td> 38.88414</td><td>2        </td><td>10       </td><td>93       </td><td>40.41359 </td><td>-3.708945</td><td> NA      </td><td>1        </td><td> 38.88414</td></tr>\n",
       "\t<tr><td>Malasaña </td><td>6        </td><td>2.5      </td><td>3        </td><td>3        </td><td>314      </td><td>116.38629</td><td>2        </td><td>26       </td><td>NA       </td><td>40.42201 </td><td>-3.707045</td><td> NA      </td><td>1        </td><td>116.38629</td></tr>\n",
       "\t<tr><td>Recoletos</td><td>2        </td><td>1.0      </td><td>0        </td><td>2        </td><td> 49      </td><td> 22.51586</td><td>1        </td><td> 0       </td><td>91       </td><td>40.42820 </td><td>-3.686709</td><td> NA      </td><td>1        </td><td> 22.51586</td></tr>\n",
       "\t<tr><td>Justicia </td><td>2        </td><td>1.0      </td><td>1        </td><td>1        </td><td> 85      </td><td> 39.23766</td><td>1        </td><td> 0       </td><td>80       </td><td>40.42012 </td><td>-3.698330</td><td> NA      </td><td>1        </td><td> 39.23766</td></tr>\n",
       "</tbody>\n",
       "</table>\n"
      ],
      "text/latex": [
       "\\begin{tabular}{r|lllllllllllllll}\n",
       " Neighbourhood & Accommodates & Bathrooms & Bedrooms & Beds & Price & Square.Meters & Guests.Included & Extra.People & Review.Scores.Rating & Latitude & Longitude & Square.Feet & neighb\\_id & pred\\\\\n",
       "\\hline\n",
       "\t Cortes    & 2         & 1.0       & 1         & 2         &  60       &  35.02443 & 2         &  0        & 92        & 40.41528  & -3.698587 & 377       & 1         &  37.02818\\\\\n",
       "\t La Latina & 2         & 1.0       & 1         & 1         &  81       &  38.88414 & 2         & 10        & 93        & 40.41359  & -3.708945 &  NA       & 1         &  38.88414\\\\\n",
       "\t Malasaña  & 6         & 2.5       & 3         & 3         & 314       & 116.38629 & 2         & 26        & NA        & 40.42201  & -3.707045 &  NA       & 1         & 116.38629\\\\\n",
       "\t Recoletos & 2         & 1.0       & 0         & 2         &  49       &  22.51586 & 1         &  0        & 91        & 40.42820  & -3.686709 &  NA       & 1         &  22.51586\\\\\n",
       "\t Justicia  & 2         & 1.0       & 1         & 1         &  85       &  39.23766 & 1         &  0        & 80        & 40.42012  & -3.698330 &  NA       & 1         &  39.23766\\\\\n",
       "\\end{tabular}\n"
      ],
      "text/markdown": [
       "\n",
       "| Neighbourhood | Accommodates | Bathrooms | Bedrooms | Beds | Price | Square.Meters | Guests.Included | Extra.People | Review.Scores.Rating | Latitude | Longitude | Square.Feet | neighb_id | pred |\n",
       "|---|---|---|---|---|---|---|---|---|---|---|---|---|---|---|\n",
       "| Cortes    | 2         | 1.0       | 1         | 2         |  60       |  35.02443 | 2         |  0        | 92        | 40.41528  | -3.698587 | 377       | 1         |  37.02818 |\n",
       "| La Latina | 2         | 1.0       | 1         | 1         |  81       |  38.88414 | 2         | 10        | 93        | 40.41359  | -3.708945 |  NA       | 1         |  38.88414 |\n",
       "| Malasaña  | 6         | 2.5       | 3         | 3         | 314       | 116.38629 | 2         | 26        | NA        | 40.42201  | -3.707045 |  NA       | 1         | 116.38629 |\n",
       "| Recoletos | 2         | 1.0       | 0         | 2         |  49       |  22.51586 | 1         |  0        | 91        | 40.42820  | -3.686709 |  NA       | 1         |  22.51586 |\n",
       "| Justicia  | 2         | 1.0       | 1         | 1         |  85       |  39.23766 | 1         |  0        | 80        | 40.42012  | -3.698330 |  NA       | 1         |  39.23766 |\n",
       "\n"
      ],
      "text/plain": [
       "  Neighbourhood Accommodates Bathrooms Bedrooms Beds Price Square.Meters\n",
       "1 Cortes        2            1.0       1        2     60    35.02443    \n",
       "2 La Latina     2            1.0       1        1     81    38.88414    \n",
       "3 Malasaña      6            2.5       3        3    314   116.38629    \n",
       "4 Recoletos     2            1.0       0        2     49    22.51586    \n",
       "5 Justicia      2            1.0       1        1     85    39.23766    \n",
       "  Guests.Included Extra.People Review.Scores.Rating Latitude Longitude\n",
       "1 2                0           92                   40.41528 -3.698587\n",
       "2 2               10           93                   40.41359 -3.708945\n",
       "3 2               26           NA                   40.42201 -3.707045\n",
       "4 1                0           91                   40.42820 -3.686709\n",
       "5 1                0           80                   40.42012 -3.698330\n",
       "  Square.Feet neighb_id pred     \n",
       "1 377         1          37.02818\n",
       "2  NA         1          38.88414\n",
       "3  NA         1         116.38629\n",
       "4  NA         1          22.51586\n",
       "5  NA         1          39.23766"
      ]
     },
     "metadata": {},
     "output_type": "display_data"
    },
    {
     "data": {
      "text/html": [
       "<table>\n",
       "<thead><tr><th scope=col>Accommodates</th><th scope=col>Bathrooms</th><th scope=col>Bedrooms</th><th scope=col>Beds</th><th scope=col>Price</th><th scope=col>Guests.Included</th><th scope=col>Extra.People</th><th scope=col>Review.Scores.Rating</th><th scope=col>Latitude</th><th scope=col>Longitude</th><th scope=col>Square.Meters</th></tr></thead>\n",
       "<tbody>\n",
       "\t<tr><td>2        </td><td>1        </td><td>1        </td><td>1        </td><td>76       </td><td>2        </td><td>11       </td><td>68       </td><td>40.42115 </td><td>-3.698723</td><td>38.44224 </td></tr>\n",
       "</tbody>\n",
       "</table>\n"
      ],
      "text/latex": [
       "\\begin{tabular}{r|lllllllllll}\n",
       " Accommodates & Bathrooms & Bedrooms & Beds & Price & Guests.Included & Extra.People & Review.Scores.Rating & Latitude & Longitude & Square.Meters\\\\\n",
       "\\hline\n",
       "\t 2         & 1         & 1         & 1         & 76        & 2         & 11        & 68        & 40.42115  & -3.698723 & 38.44224 \\\\\n",
       "\\end{tabular}\n"
      ],
      "text/markdown": [
       "\n",
       "| Accommodates | Bathrooms | Bedrooms | Beds | Price | Guests.Included | Extra.People | Review.Scores.Rating | Latitude | Longitude | Square.Meters |\n",
       "|---|---|---|---|---|---|---|---|---|---|---|\n",
       "| 2         | 1         | 1         | 1         | 76        | 2         | 11        | 68        | 40.42115  | -3.698723 | 38.44224  |\n",
       "\n"
      ],
      "text/plain": [
       "  Accommodates Bathrooms Bedrooms Beds Price Guests.Included Extra.People\n",
       "1 2            1         1        1    76    2               11          \n",
       "  Review.Scores.Rating Latitude Longitude Square.Meters\n",
       "1 68                   40.42115 -3.698723 38.44224     "
      ]
     },
     "metadata": {},
     "output_type": "display_data"
    }
   ],
   "source": [
    "#creo un dataframe con los crecanos a mi df_apartment para compararlos mejor...\n",
    "df_cercanos<-df_madrid.tot[c(head(order(dist,decreasing = F),5)),]\n",
    "df_cercanos\n",
    "df_apartment\n",
    "\n",
    "#df_cercanos<-df_madrid.tot[c(152,306,114,306,120),]"
   ]
  },
  {
   "cell_type": "code",
   "execution_count": 222,
   "metadata": {},
   "outputs": [],
   "source": []
  },
  {
   "cell_type": "markdown",
   "metadata": {},
   "source": [
    "Bonus: ¿de todas las coordenadas PCA cual es la que mejor permite clasificar por id de barrio?\n",
    "\n",
    "¿Por qué?"
   ]
  },
  {
   "cell_type": "code",
   "execution_count": null,
   "metadata": {},
   "outputs": [],
   "source": []
  },
  {
   "cell_type": "code",
   "execution_count": null,
   "metadata": {},
   "outputs": [],
   "source": []
  },
  {
   "cell_type": "code",
   "execution_count": null,
   "metadata": {},
   "outputs": [],
   "source": []
  },
  {
   "cell_type": "code",
   "execution_count": null,
   "metadata": {},
   "outputs": [],
   "source": []
  }
 ],
 "metadata": {
  "kernelspec": {
   "display_name": "R",
   "language": "R",
   "name": "ir"
  },
  "language_info": {
   "codemirror_mode": "r",
   "file_extension": ".r",
   "mimetype": "text/x-r-source",
   "name": "R",
   "pygments_lexer": "r",
   "version": "3.6.1"
  }
 },
 "nbformat": 4,
 "nbformat_minor": 2
}
